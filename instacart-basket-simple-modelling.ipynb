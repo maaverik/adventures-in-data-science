{
 "cells": [
  {
   "cell_type": "code",
   "execution_count": 1,
   "metadata": {
    "_cell_guid": "b1076dfc-b9ad-4769-8c92-a6c4dae69d19",
    "_uuid": "8f2839f25d086af736a60e9eeb907d3b93b6e0e5",
    "execution": {
     "iopub.execute_input": "2020-12-05T15:22:27.158485Z",
     "iopub.status.busy": "2020-12-05T15:22:27.157864Z",
     "iopub.status.idle": "2020-12-05T15:22:27.169799Z",
     "shell.execute_reply": "2020-12-05T15:22:27.169163Z"
    },
    "papermill": {
     "duration": 0.041652,
     "end_time": "2020-12-05T15:22:27.169899",
     "exception": false,
     "start_time": "2020-12-05T15:22:27.128247",
     "status": "completed"
    },
    "tags": []
   },
   "outputs": [
    {
     "name": "stdout",
     "output_type": "stream",
     "text": [
      "/kaggle/input/instacart-market-basket-analysis/products.csv\n",
      "/kaggle/input/instacart-market-basket-analysis/order_products__train.csv\n",
      "/kaggle/input/instacart-market-basket-analysis/orders.csv\n",
      "/kaggle/input/instacart-market-basket-analysis/order_products__prior.csv\n",
      "/kaggle/input/instacart-market-basket-analysis/aisles.csv\n",
      "/kaggle/input/instacart-market-basket-analysis/departments.csv\n"
     ]
    }
   ],
   "source": [
    "# This Python 3 environment comes with many helpful analytics libraries installed\n",
    "# It is defined by the kaggle/python Docker image: https://github.com/kaggle/docker-python\n",
    "# For example, here's several helpful packages to load\n",
    "\n",
    "import numpy as np # linear algebra\n",
    "import pandas as pd # data processing, CSV file I/O (e.g. pd.read_csv)\n",
    "from functools import partial\n",
    "# Input data files are available in the read-only \"../input/\" directory\n",
    "# For example, running this (by clicking run or pressing Shift+Enter) will list all files under the input directory\n",
    "\n",
    "import os\n",
    "for dirname, _, filenames in os.walk('/kaggle/input'):\n",
    "    for filename in filenames:\n",
    "        print(os.path.join(dirname, filename))\n",
    "\n",
    "# You can write up to 20GB to the current directory (/kaggle/working/) that gets preserved as output when you create a version using \"Save & Run All\" \n",
    "# You can also write temporary files to /kaggle/temp/, but they won't be saved outside of the current session"
   ]
  },
  {
   "cell_type": "code",
   "execution_count": 2,
   "metadata": {
    "_cell_guid": "79c7e3d0-c299-4dcb-8224-4455121ee9b0",
    "_uuid": "d629ff2d2480ee46fbb7e2d37f6b5fab8052498a",
    "execution": {
     "iopub.execute_input": "2020-12-05T15:22:27.209375Z",
     "iopub.status.busy": "2020-12-05T15:22:27.208751Z",
     "iopub.status.idle": "2020-12-05T15:22:50.396713Z",
     "shell.execute_reply": "2020-12-05T15:22:50.395762Z"
    },
    "papermill": {
     "duration": 23.212073,
     "end_time": "2020-12-05T15:22:50.396844",
     "exception": false,
     "start_time": "2020-12-05T15:22:27.184771",
     "status": "completed"
    },
    "tags": []
   },
   "outputs": [],
   "source": [
    "aisles = pd.read_csv('../input/instacart-market-basket-analysis/aisles.csv')\n",
    "depts = pd.read_csv('../input/instacart-market-basket-analysis/departments.csv')\n",
    "orders_prior = pd.read_csv('../input/instacart-market-basket-analysis/order_products__prior.csv', dtype={\n",
    "            'order_id': np.int32,\n",
    "            'product_id': np.uint16,\n",
    "            'add_to_cart_order': np.int16,\n",
    "            'reordered': np.int8})\n",
    "orders_train = pd.read_csv('../input/instacart-market-basket-analysis/order_products__train.csv', dtype={\n",
    "            'order_id': np.int32,\n",
    "            'product_id': np.uint16,\n",
    "            'add_to_cart_order': np.int16,\n",
    "            'reordered': np.int8})\n",
    "orders_full = pd.read_csv('../input/instacart-market-basket-analysis/orders.csv', dtype={\n",
    "        'order_id': np.int32,\n",
    "        'user_id': np.int32,\n",
    "        'eval_set': 'category',\n",
    "        'order_number': np.int16,\n",
    "        'order_dow': np.int8,\n",
    "        'order_hour_of_day': np.int8,\n",
    "        'days_since_prior_order': np.float16})\n",
    "products = pd.read_csv('../input/instacart-market-basket-analysis/products.csv', dtype={\n",
    "        'product_id': np.uint16,\n",
    "        'order_id': np.int32,\n",
    "        'aisle_id': np.uint8,\n",
    "        'department_id': np.uint8})"
   ]
  },
  {
   "cell_type": "code",
   "execution_count": 3,
   "metadata": {
    "execution": {
     "iopub.execute_input": "2020-12-05T15:22:50.446944Z",
     "iopub.status.busy": "2020-12-05T15:22:50.445913Z",
     "iopub.status.idle": "2020-12-05T15:22:50.482398Z",
     "shell.execute_reply": "2020-12-05T15:22:50.481536Z"
    },
    "papermill": {
     "duration": 0.063429,
     "end_time": "2020-12-05T15:22:50.482573",
     "exception": false,
     "start_time": "2020-12-05T15:22:50.419144",
     "status": "completed"
    },
    "tags": []
   },
   "outputs": [
    {
     "data": {
      "text/plain": [
       "count    1.384617e+06\n",
       "mean     5.985944e-01\n",
       "std      4.901829e-01\n",
       "min      0.000000e+00\n",
       "25%      0.000000e+00\n",
       "50%      1.000000e+00\n",
       "75%      1.000000e+00\n",
       "max      1.000000e+00\n",
       "Name: reordered, dtype: float64"
      ]
     },
     "execution_count": 3,
     "metadata": {},
     "output_type": "execute_result"
    }
   ],
   "source": [
    "orders_train['reordered'].describe()"
   ]
  },
  {
   "cell_type": "code",
   "execution_count": 4,
   "metadata": {
    "execution": {
     "iopub.execute_input": "2020-12-05T15:22:50.532527Z",
     "iopub.status.busy": "2020-12-05T15:22:50.531653Z",
     "iopub.status.idle": "2020-12-05T15:22:50.548905Z",
     "shell.execute_reply": "2020-12-05T15:22:50.548208Z"
    },
    "papermill": {
     "duration": 0.043763,
     "end_time": "2020-12-05T15:22:50.549033",
     "exception": false,
     "start_time": "2020-12-05T15:22:50.505270",
     "status": "completed"
    },
    "tags": []
   },
   "outputs": [
    {
     "data": {
      "text/html": [
       "<div>\n",
       "<style scoped>\n",
       "    .dataframe tbody tr th:only-of-type {\n",
       "        vertical-align: middle;\n",
       "    }\n",
       "\n",
       "    .dataframe tbody tr th {\n",
       "        vertical-align: top;\n",
       "    }\n",
       "\n",
       "    .dataframe thead th {\n",
       "        text-align: right;\n",
       "    }\n",
       "</style>\n",
       "<table border=\"1\" class=\"dataframe\">\n",
       "  <thead>\n",
       "    <tr style=\"text-align: right;\">\n",
       "      <th></th>\n",
       "      <th>product_name</th>\n",
       "      <th>aisle_id</th>\n",
       "      <th>department_id</th>\n",
       "    </tr>\n",
       "    <tr>\n",
       "      <th>product_id</th>\n",
       "      <th></th>\n",
       "      <th></th>\n",
       "      <th></th>\n",
       "    </tr>\n",
       "  </thead>\n",
       "  <tbody>\n",
       "    <tr>\n",
       "      <th>1</th>\n",
       "      <td>Chocolate Sandwich Cookies</td>\n",
       "      <td>61</td>\n",
       "      <td>19</td>\n",
       "    </tr>\n",
       "    <tr>\n",
       "      <th>2</th>\n",
       "      <td>All-Seasons Salt</td>\n",
       "      <td>104</td>\n",
       "      <td>13</td>\n",
       "    </tr>\n",
       "    <tr>\n",
       "      <th>3</th>\n",
       "      <td>Robust Golden Unsweetened Oolong Tea</td>\n",
       "      <td>94</td>\n",
       "      <td>7</td>\n",
       "    </tr>\n",
       "    <tr>\n",
       "      <th>4</th>\n",
       "      <td>Smart Ones Classic Favorites Mini Rigatoni Wit...</td>\n",
       "      <td>38</td>\n",
       "      <td>1</td>\n",
       "    </tr>\n",
       "    <tr>\n",
       "      <th>5</th>\n",
       "      <td>Green Chile Anytime Sauce</td>\n",
       "      <td>5</td>\n",
       "      <td>13</td>\n",
       "    </tr>\n",
       "  </tbody>\n",
       "</table>\n",
       "</div>"
      ],
      "text/plain": [
       "                                                 product_name  aisle_id  \\\n",
       "product_id                                                                \n",
       "1                                  Chocolate Sandwich Cookies        61   \n",
       "2                                            All-Seasons Salt       104   \n",
       "3                        Robust Golden Unsweetened Oolong Tea        94   \n",
       "4           Smart Ones Classic Favorites Mini Rigatoni Wit...        38   \n",
       "5                                   Green Chile Anytime Sauce         5   \n",
       "\n",
       "            department_id  \n",
       "product_id                 \n",
       "1                      19  \n",
       "2                      13  \n",
       "3                       7  \n",
       "4                       1  \n",
       "5                      13  "
      ]
     },
     "execution_count": 4,
     "metadata": {},
     "output_type": "execute_result"
    }
   ],
   "source": [
    "products = products.set_index('product_id')\n",
    "products.head()"
   ]
  },
  {
   "cell_type": "code",
   "execution_count": 5,
   "metadata": {
    "execution": {
     "iopub.execute_input": "2020-12-05T15:22:50.602815Z",
     "iopub.status.busy": "2020-12-05T15:22:50.601999Z",
     "iopub.status.idle": "2020-12-05T15:22:50.729873Z",
     "shell.execute_reply": "2020-12-05T15:22:50.729045Z"
    },
    "papermill": {
     "duration": 0.157676,
     "end_time": "2020-12-05T15:22:50.729998",
     "exception": false,
     "start_time": "2020-12-05T15:22:50.572322",
     "status": "completed"
    },
    "tags": []
   },
   "outputs": [],
   "source": [
    "#Add a field to calculate the sum of times an item was reordered\n",
    "products['rsum']=orders_train.groupby('product_id')['reordered'].sum()\n",
    "#Add a field to calculate the total times the item could have been reordered\n",
    "products['rtotal']=orders_train.groupby('product_id')['reordered'].count()\n",
    "#Add a field to calculate the probability that the item was reordered\n",
    "products['prob']=products['rsum']/products['rtotal']\n",
    "products = products.reset_index()\n",
    "# groupby sorts by grouping key so we can directly assign to products df without risking \n",
    "# getting entries mismatched because the products df is ordered by product id\n"
   ]
  },
  {
   "cell_type": "code",
   "execution_count": 6,
   "metadata": {
    "execution": {
     "iopub.execute_input": "2020-12-05T15:22:50.789084Z",
     "iopub.status.busy": "2020-12-05T15:22:50.788143Z",
     "iopub.status.idle": "2020-12-05T15:22:50.792693Z",
     "shell.execute_reply": "2020-12-05T15:22:50.792017Z"
    },
    "papermill": {
     "duration": 0.039235,
     "end_time": "2020-12-05T15:22:50.792814",
     "exception": false,
     "start_time": "2020-12-05T15:22:50.753579",
     "status": "completed"
    },
    "tags": []
   },
   "outputs": [
    {
     "data": {
      "text/html": [
       "<div>\n",
       "<style scoped>\n",
       "    .dataframe tbody tr th:only-of-type {\n",
       "        vertical-align: middle;\n",
       "    }\n",
       "\n",
       "    .dataframe tbody tr th {\n",
       "        vertical-align: top;\n",
       "    }\n",
       "\n",
       "    .dataframe thead th {\n",
       "        text-align: right;\n",
       "    }\n",
       "</style>\n",
       "<table border=\"1\" class=\"dataframe\">\n",
       "  <thead>\n",
       "    <tr style=\"text-align: right;\">\n",
       "      <th></th>\n",
       "      <th>product_id</th>\n",
       "      <th>product_name</th>\n",
       "      <th>aisle_id</th>\n",
       "      <th>department_id</th>\n",
       "      <th>rsum</th>\n",
       "      <th>rtotal</th>\n",
       "      <th>prob</th>\n",
       "    </tr>\n",
       "  </thead>\n",
       "  <tbody>\n",
       "    <tr>\n",
       "      <th>0</th>\n",
       "      <td>1</td>\n",
       "      <td>Chocolate Sandwich Cookies</td>\n",
       "      <td>61</td>\n",
       "      <td>19</td>\n",
       "      <td>49.0</td>\n",
       "      <td>76.0</td>\n",
       "      <td>0.644737</td>\n",
       "    </tr>\n",
       "    <tr>\n",
       "      <th>1</th>\n",
       "      <td>2</td>\n",
       "      <td>All-Seasons Salt</td>\n",
       "      <td>104</td>\n",
       "      <td>13</td>\n",
       "      <td>1.0</td>\n",
       "      <td>4.0</td>\n",
       "      <td>0.250000</td>\n",
       "    </tr>\n",
       "    <tr>\n",
       "      <th>2</th>\n",
       "      <td>3</td>\n",
       "      <td>Robust Golden Unsweetened Oolong Tea</td>\n",
       "      <td>94</td>\n",
       "      <td>7</td>\n",
       "      <td>6.0</td>\n",
       "      <td>6.0</td>\n",
       "      <td>1.000000</td>\n",
       "    </tr>\n",
       "    <tr>\n",
       "      <th>3</th>\n",
       "      <td>4</td>\n",
       "      <td>Smart Ones Classic Favorites Mini Rigatoni Wit...</td>\n",
       "      <td>38</td>\n",
       "      <td>1</td>\n",
       "      <td>14.0</td>\n",
       "      <td>22.0</td>\n",
       "      <td>0.636364</td>\n",
       "    </tr>\n",
       "    <tr>\n",
       "      <th>4</th>\n",
       "      <td>5</td>\n",
       "      <td>Green Chile Anytime Sauce</td>\n",
       "      <td>5</td>\n",
       "      <td>13</td>\n",
       "      <td>1.0</td>\n",
       "      <td>1.0</td>\n",
       "      <td>1.000000</td>\n",
       "    </tr>\n",
       "  </tbody>\n",
       "</table>\n",
       "</div>"
      ],
      "text/plain": [
       "   product_id                                       product_name  aisle_id  \\\n",
       "0           1                         Chocolate Sandwich Cookies        61   \n",
       "1           2                                   All-Seasons Salt       104   \n",
       "2           3               Robust Golden Unsweetened Oolong Tea        94   \n",
       "3           4  Smart Ones Classic Favorites Mini Rigatoni Wit...        38   \n",
       "4           5                          Green Chile Anytime Sauce         5   \n",
       "\n",
       "   department_id  rsum  rtotal      prob  \n",
       "0             19  49.0    76.0  0.644737  \n",
       "1             13   1.0     4.0  0.250000  \n",
       "2              7   6.0     6.0  1.000000  \n",
       "3              1  14.0    22.0  0.636364  \n",
       "4             13   1.0     1.0  1.000000  "
      ]
     },
     "execution_count": 6,
     "metadata": {},
     "output_type": "execute_result"
    }
   ],
   "source": [
    "products.head()"
   ]
  },
  {
   "cell_type": "code",
   "execution_count": 7,
   "metadata": {
    "execution": {
     "iopub.execute_input": "2020-12-05T15:22:50.849393Z",
     "iopub.status.busy": "2020-12-05T15:22:50.848591Z",
     "iopub.status.idle": "2020-12-05T15:22:50.878643Z",
     "shell.execute_reply": "2020-12-05T15:22:50.877797Z"
    },
    "papermill": {
     "duration": 0.061367,
     "end_time": "2020-12-05T15:22:50.878774",
     "exception": false,
     "start_time": "2020-12-05T15:22:50.817407",
     "status": "completed"
    },
    "tags": []
   },
   "outputs": [],
   "source": [
    "# Merge all of the details into a goods page\n",
    "# Merges on common columns if 'on' argument not specified\n",
    "goods = pd.merge(left=pd.merge(left=products, right=depts, how='left'), right=aisles, how='left')"
   ]
  },
  {
   "cell_type": "code",
   "execution_count": 8,
   "metadata": {
    "execution": {
     "iopub.execute_input": "2020-12-05T15:22:50.942276Z",
     "iopub.status.busy": "2020-12-05T15:22:50.941230Z",
     "iopub.status.idle": "2020-12-05T15:22:50.945868Z",
     "shell.execute_reply": "2020-12-05T15:22:50.946329Z"
    },
    "papermill": {
     "duration": 0.042709,
     "end_time": "2020-12-05T15:22:50.946477",
     "exception": false,
     "start_time": "2020-12-05T15:22:50.903768",
     "status": "completed"
    },
    "tags": []
   },
   "outputs": [
    {
     "data": {
      "text/html": [
       "<div>\n",
       "<style scoped>\n",
       "    .dataframe tbody tr th:only-of-type {\n",
       "        vertical-align: middle;\n",
       "    }\n",
       "\n",
       "    .dataframe tbody tr th {\n",
       "        vertical-align: top;\n",
       "    }\n",
       "\n",
       "    .dataframe thead th {\n",
       "        text-align: right;\n",
       "    }\n",
       "</style>\n",
       "<table border=\"1\" class=\"dataframe\">\n",
       "  <thead>\n",
       "    <tr style=\"text-align: right;\">\n",
       "      <th></th>\n",
       "      <th>product_id</th>\n",
       "      <th>product_name</th>\n",
       "      <th>aisle_id</th>\n",
       "      <th>department_id</th>\n",
       "      <th>rsum</th>\n",
       "      <th>rtotal</th>\n",
       "      <th>prob</th>\n",
       "      <th>department</th>\n",
       "      <th>aisle</th>\n",
       "    </tr>\n",
       "  </thead>\n",
       "  <tbody>\n",
       "    <tr>\n",
       "      <th>0</th>\n",
       "      <td>1</td>\n",
       "      <td>Chocolate Sandwich Cookies</td>\n",
       "      <td>61</td>\n",
       "      <td>19</td>\n",
       "      <td>49.0</td>\n",
       "      <td>76.0</td>\n",
       "      <td>0.644737</td>\n",
       "      <td>snacks</td>\n",
       "      <td>cookies cakes</td>\n",
       "    </tr>\n",
       "    <tr>\n",
       "      <th>1</th>\n",
       "      <td>2</td>\n",
       "      <td>All-Seasons Salt</td>\n",
       "      <td>104</td>\n",
       "      <td>13</td>\n",
       "      <td>1.0</td>\n",
       "      <td>4.0</td>\n",
       "      <td>0.250000</td>\n",
       "      <td>pantry</td>\n",
       "      <td>spices seasonings</td>\n",
       "    </tr>\n",
       "    <tr>\n",
       "      <th>2</th>\n",
       "      <td>3</td>\n",
       "      <td>Robust Golden Unsweetened Oolong Tea</td>\n",
       "      <td>94</td>\n",
       "      <td>7</td>\n",
       "      <td>6.0</td>\n",
       "      <td>6.0</td>\n",
       "      <td>1.000000</td>\n",
       "      <td>beverages</td>\n",
       "      <td>tea</td>\n",
       "    </tr>\n",
       "    <tr>\n",
       "      <th>3</th>\n",
       "      <td>4</td>\n",
       "      <td>Smart Ones Classic Favorites Mini Rigatoni Wit...</td>\n",
       "      <td>38</td>\n",
       "      <td>1</td>\n",
       "      <td>14.0</td>\n",
       "      <td>22.0</td>\n",
       "      <td>0.636364</td>\n",
       "      <td>frozen</td>\n",
       "      <td>frozen meals</td>\n",
       "    </tr>\n",
       "    <tr>\n",
       "      <th>4</th>\n",
       "      <td>5</td>\n",
       "      <td>Green Chile Anytime Sauce</td>\n",
       "      <td>5</td>\n",
       "      <td>13</td>\n",
       "      <td>1.0</td>\n",
       "      <td>1.0</td>\n",
       "      <td>1.000000</td>\n",
       "      <td>pantry</td>\n",
       "      <td>marinades meat preparation</td>\n",
       "    </tr>\n",
       "  </tbody>\n",
       "</table>\n",
       "</div>"
      ],
      "text/plain": [
       "   product_id                                       product_name  aisle_id  \\\n",
       "0           1                         Chocolate Sandwich Cookies        61   \n",
       "1           2                                   All-Seasons Salt       104   \n",
       "2           3               Robust Golden Unsweetened Oolong Tea        94   \n",
       "3           4  Smart Ones Classic Favorites Mini Rigatoni Wit...        38   \n",
       "4           5                          Green Chile Anytime Sauce         5   \n",
       "\n",
       "   department_id  rsum  rtotal      prob department  \\\n",
       "0             19  49.0    76.0  0.644737     snacks   \n",
       "1             13   1.0     4.0  0.250000     pantry   \n",
       "2              7   6.0     6.0  1.000000  beverages   \n",
       "3              1  14.0    22.0  0.636364     frozen   \n",
       "4             13   1.0     1.0  1.000000     pantry   \n",
       "\n",
       "                        aisle  \n",
       "0               cookies cakes  \n",
       "1           spices seasonings  \n",
       "2                         tea  \n",
       "3                frozen meals  \n",
       "4  marinades meat preparation  "
      ]
     },
     "execution_count": 8,
     "metadata": {},
     "output_type": "execute_result"
    }
   ],
   "source": [
    "goods.head()"
   ]
  },
  {
   "cell_type": "code",
   "execution_count": 9,
   "metadata": {
    "execution": {
     "iopub.execute_input": "2020-12-05T15:22:50.987579Z",
     "iopub.status.busy": "2020-12-05T15:22:50.986554Z",
     "iopub.status.idle": "2020-12-05T15:22:52.791695Z",
     "shell.execute_reply": "2020-12-05T15:22:52.791056Z"
    },
    "papermill": {
     "duration": 1.828458,
     "end_time": "2020-12-05T15:22:52.791800",
     "exception": false,
     "start_time": "2020-12-05T15:22:50.963342",
     "status": "completed"
    },
    "tags": []
   },
   "outputs": [],
   "source": [
    "# merge train and prior together iteratively, to fit into 8GB kernel RAM\n",
    "order_details = pd.merge(\n",
    "                left=orders_train,\n",
    "                 right=orders_full, \n",
    "                 how='left', \n",
    "                 on='order_id'\n",
    "        ).apply(partial(pd.to_numeric, errors='ignore', downcast='integer'))"
   ]
  },
  {
   "cell_type": "code",
   "execution_count": 10,
   "metadata": {
    "execution": {
     "iopub.execute_input": "2020-12-05T15:22:52.834787Z",
     "iopub.status.busy": "2020-12-05T15:22:52.833859Z",
     "iopub.status.idle": "2020-12-05T15:22:53.156299Z",
     "shell.execute_reply": "2020-12-05T15:22:53.155774Z"
    },
    "papermill": {
     "duration": 0.347335,
     "end_time": "2020-12-05T15:22:53.156411",
     "exception": false,
     "start_time": "2020-12-05T15:22:52.809076",
     "status": "completed"
    },
    "tags": []
   },
   "outputs": [],
   "source": [
    "# add order hierarchy\n",
    "order_details = pd.merge(\n",
    "                left=order_details,\n",
    "                right=goods[['product_id', \n",
    "                             'aisle_id', \n",
    "                             'department_id',\n",
    "                             'prob']].apply(partial(pd.to_numeric,\n",
    "                                                             errors='ignore', \n",
    "                                                             downcast='integer')),\n",
    "                how='left',\n",
    "                on='product_id'\n",
    ")"
   ]
  },
  {
   "cell_type": "code",
   "execution_count": 11,
   "metadata": {
    "execution": {
     "iopub.execute_input": "2020-12-05T15:22:53.212506Z",
     "iopub.status.busy": "2020-12-05T15:22:53.211614Z",
     "iopub.status.idle": "2020-12-05T15:22:53.216505Z",
     "shell.execute_reply": "2020-12-05T15:22:53.216959Z"
    },
    "papermill": {
     "duration": 0.042038,
     "end_time": "2020-12-05T15:22:53.217095",
     "exception": false,
     "start_time": "2020-12-05T15:22:53.175057",
     "status": "completed"
    },
    "tags": []
   },
   "outputs": [
    {
     "name": "stdout",
     "output_type": "stream",
     "text": [
      "(1384617, 13) (1384617, 4)\n"
     ]
    },
    {
     "data": {
      "text/html": [
       "<div>\n",
       "<style scoped>\n",
       "    .dataframe tbody tr th:only-of-type {\n",
       "        vertical-align: middle;\n",
       "    }\n",
       "\n",
       "    .dataframe tbody tr th {\n",
       "        vertical-align: top;\n",
       "    }\n",
       "\n",
       "    .dataframe thead th {\n",
       "        text-align: right;\n",
       "    }\n",
       "</style>\n",
       "<table border=\"1\" class=\"dataframe\">\n",
       "  <thead>\n",
       "    <tr style=\"text-align: right;\">\n",
       "      <th></th>\n",
       "      <th>order_id</th>\n",
       "      <th>product_id</th>\n",
       "      <th>add_to_cart_order</th>\n",
       "      <th>reordered</th>\n",
       "      <th>user_id</th>\n",
       "      <th>eval_set</th>\n",
       "      <th>order_number</th>\n",
       "      <th>order_dow</th>\n",
       "      <th>order_hour_of_day</th>\n",
       "      <th>days_since_prior_order</th>\n",
       "      <th>aisle_id</th>\n",
       "      <th>department_id</th>\n",
       "      <th>prob</th>\n",
       "    </tr>\n",
       "  </thead>\n",
       "  <tbody>\n",
       "    <tr>\n",
       "      <th>0</th>\n",
       "      <td>1</td>\n",
       "      <td>49302</td>\n",
       "      <td>1</td>\n",
       "      <td>1</td>\n",
       "      <td>112108</td>\n",
       "      <td>train</td>\n",
       "      <td>4</td>\n",
       "      <td>4</td>\n",
       "      <td>10</td>\n",
       "      <td>9</td>\n",
       "      <td>120</td>\n",
       "      <td>16</td>\n",
       "      <td>0.875000</td>\n",
       "    </tr>\n",
       "    <tr>\n",
       "      <th>1</th>\n",
       "      <td>1</td>\n",
       "      <td>11109</td>\n",
       "      <td>2</td>\n",
       "      <td>1</td>\n",
       "      <td>112108</td>\n",
       "      <td>train</td>\n",
       "      <td>4</td>\n",
       "      <td>4</td>\n",
       "      <td>10</td>\n",
       "      <td>9</td>\n",
       "      <td>108</td>\n",
       "      <td>16</td>\n",
       "      <td>0.743056</td>\n",
       "    </tr>\n",
       "    <tr>\n",
       "      <th>2</th>\n",
       "      <td>1</td>\n",
       "      <td>10246</td>\n",
       "      <td>3</td>\n",
       "      <td>0</td>\n",
       "      <td>112108</td>\n",
       "      <td>train</td>\n",
       "      <td>4</td>\n",
       "      <td>4</td>\n",
       "      <td>10</td>\n",
       "      <td>9</td>\n",
       "      <td>83</td>\n",
       "      <td>4</td>\n",
       "      <td>0.535782</td>\n",
       "    </tr>\n",
       "    <tr>\n",
       "      <th>3</th>\n",
       "      <td>1</td>\n",
       "      <td>49683</td>\n",
       "      <td>4</td>\n",
       "      <td>0</td>\n",
       "      <td>112108</td>\n",
       "      <td>train</td>\n",
       "      <td>4</td>\n",
       "      <td>4</td>\n",
       "      <td>10</td>\n",
       "      <td>9</td>\n",
       "      <td>83</td>\n",
       "      <td>4</td>\n",
       "      <td>0.708247</td>\n",
       "    </tr>\n",
       "    <tr>\n",
       "      <th>4</th>\n",
       "      <td>1</td>\n",
       "      <td>43633</td>\n",
       "      <td>5</td>\n",
       "      <td>1</td>\n",
       "      <td>112108</td>\n",
       "      <td>train</td>\n",
       "      <td>4</td>\n",
       "      <td>4</td>\n",
       "      <td>10</td>\n",
       "      <td>9</td>\n",
       "      <td>95</td>\n",
       "      <td>15</td>\n",
       "      <td>0.416667</td>\n",
       "    </tr>\n",
       "  </tbody>\n",
       "</table>\n",
       "</div>"
      ],
      "text/plain": [
       "   order_id  product_id  add_to_cart_order  reordered  user_id eval_set  \\\n",
       "0         1       49302                  1          1   112108    train   \n",
       "1         1       11109                  2          1   112108    train   \n",
       "2         1       10246                  3          0   112108    train   \n",
       "3         1       49683                  4          0   112108    train   \n",
       "4         1       43633                  5          1   112108    train   \n",
       "\n",
       "   order_number  order_dow  order_hour_of_day  days_since_prior_order  \\\n",
       "0             4          4                 10                       9   \n",
       "1             4          4                 10                       9   \n",
       "2             4          4                 10                       9   \n",
       "3             4          4                 10                       9   \n",
       "4             4          4                 10                       9   \n",
       "\n",
       "   aisle_id  department_id      prob  \n",
       "0       120             16  0.875000  \n",
       "1       108             16  0.743056  \n",
       "2        83              4  0.535782  \n",
       "3        83              4  0.708247  \n",
       "4        95             15  0.416667  "
      ]
     },
     "execution_count": 11,
     "metadata": {},
     "output_type": "execute_result"
    }
   ],
   "source": [
    "print(order_details.shape, orders_train.shape)\n",
    "\n",
    "# delete (redundant now) dataframes\n",
    "del orders_train\n",
    "\n",
    "order_details.head()"
   ]
  },
  {
   "cell_type": "code",
   "execution_count": 12,
   "metadata": {
    "execution": {
     "iopub.execute_input": "2020-12-05T15:22:53.262396Z",
     "iopub.status.busy": "2020-12-05T15:22:53.261111Z",
     "iopub.status.idle": "2020-12-05T15:22:53.265712Z",
     "shell.execute_reply": "2020-12-05T15:22:53.264898Z"
    },
    "papermill": {
     "duration": 0.030298,
     "end_time": "2020-12-05T15:22:53.265831",
     "exception": false,
     "start_time": "2020-12-05T15:22:53.235533",
     "status": "completed"
    },
    "tags": []
   },
   "outputs": [
    {
     "data": {
      "text/plain": [
       "array([       0,  3603832,  7207664, 10811496, 14415328, 18019160,\n",
       "       21622992, 25226824, 28830656, 32434489], dtype=int32)"
      ]
     },
     "execution_count": 12,
     "metadata": {},
     "output_type": "execute_result"
    }
   ],
   "source": [
    "# split df indexes into parts\n",
    "indexes = np.linspace(0, len(orders_prior), num=10, dtype=np.int32)# initialize it with train dataset\n",
    "indexes"
   ]
  },
  {
   "cell_type": "code",
   "execution_count": 13,
   "metadata": {
    "execution": {
     "iopub.execute_input": "2020-12-05T15:22:53.334081Z",
     "iopub.status.busy": "2020-12-05T15:22:53.333159Z",
     "iopub.status.idle": "2020-12-05T15:23:19.795431Z",
     "shell.execute_reply": "2020-12-05T15:23:19.794402Z"
    },
    "papermill": {
     "duration": 26.501571,
     "end_time": "2020-12-05T15:23:19.795563",
     "exception": false,
     "start_time": "2020-12-05T15:22:53.293992",
     "status": "completed"
    },
    "tags": []
   },
   "outputs": [],
   "source": [
    "for i in range(len(indexes)-1):\n",
    "    order_details = pd.concat(\n",
    "        [   \n",
    "            order_details,\n",
    "            pd.merge(left=pd.merge(\n",
    "                            left=orders_prior.loc[indexes[i]:indexes[i+1], :],\n",
    "                            right=goods[['product_id', \n",
    "                                         'aisle_id', \n",
    "                                         'department_id' ]].apply(partial(pd.to_numeric, \n",
    "                                                                          errors='ignore', \n",
    "                                                                          downcast='integer')),\n",
    "                            how='left',\n",
    "                            on='product_id'\n",
    "                            ),\n",
    "                     right=orders_full, \n",
    "                     how='left', \n",
    "                     on='order_id'\n",
    "                ) \n",
    "        ]\n",
    "    )"
   ]
  },
  {
   "cell_type": "code",
   "execution_count": 14,
   "metadata": {
    "execution": {
     "iopub.execute_input": "2020-12-05T15:23:19.840724Z",
     "iopub.status.busy": "2020-12-05T15:23:19.839770Z",
     "iopub.status.idle": "2020-12-05T15:23:19.874016Z",
     "shell.execute_reply": "2020-12-05T15:23:19.873235Z"
    },
    "papermill": {
     "duration": 0.058973,
     "end_time": "2020-12-05T15:23:19.874144",
     "exception": false,
     "start_time": "2020-12-05T15:23:19.815171",
     "status": "completed"
    },
    "tags": []
   },
   "outputs": [
    {
     "data": {
      "text/html": [
       "<div>\n",
       "<style scoped>\n",
       "    .dataframe tbody tr th:only-of-type {\n",
       "        vertical-align: middle;\n",
       "    }\n",
       "\n",
       "    .dataframe tbody tr th {\n",
       "        vertical-align: top;\n",
       "    }\n",
       "\n",
       "    .dataframe thead th {\n",
       "        text-align: right;\n",
       "    }\n",
       "</style>\n",
       "<table border=\"1\" class=\"dataframe\">\n",
       "  <thead>\n",
       "    <tr style=\"text-align: right;\">\n",
       "      <th></th>\n",
       "      <th>order_id</th>\n",
       "      <th>product_id</th>\n",
       "      <th>add_to_cart_order</th>\n",
       "      <th>reordered</th>\n",
       "      <th>user_id</th>\n",
       "      <th>eval_set</th>\n",
       "      <th>order_number</th>\n",
       "      <th>order_dow</th>\n",
       "      <th>order_hour_of_day</th>\n",
       "      <th>days_since_prior_order</th>\n",
       "      <th>aisle_id</th>\n",
       "      <th>department_id</th>\n",
       "      <th>prob</th>\n",
       "    </tr>\n",
       "  </thead>\n",
       "  <tbody>\n",
       "    <tr>\n",
       "      <th>0</th>\n",
       "      <td>1</td>\n",
       "      <td>49302</td>\n",
       "      <td>1</td>\n",
       "      <td>1</td>\n",
       "      <td>112108</td>\n",
       "      <td>train</td>\n",
       "      <td>4</td>\n",
       "      <td>4</td>\n",
       "      <td>10</td>\n",
       "      <td>9.0</td>\n",
       "      <td>120</td>\n",
       "      <td>16</td>\n",
       "      <td>0.875000</td>\n",
       "    </tr>\n",
       "    <tr>\n",
       "      <th>1</th>\n",
       "      <td>1</td>\n",
       "      <td>11109</td>\n",
       "      <td>2</td>\n",
       "      <td>1</td>\n",
       "      <td>112108</td>\n",
       "      <td>train</td>\n",
       "      <td>4</td>\n",
       "      <td>4</td>\n",
       "      <td>10</td>\n",
       "      <td>9.0</td>\n",
       "      <td>108</td>\n",
       "      <td>16</td>\n",
       "      <td>0.743056</td>\n",
       "    </tr>\n",
       "    <tr>\n",
       "      <th>2</th>\n",
       "      <td>1</td>\n",
       "      <td>10246</td>\n",
       "      <td>3</td>\n",
       "      <td>0</td>\n",
       "      <td>112108</td>\n",
       "      <td>train</td>\n",
       "      <td>4</td>\n",
       "      <td>4</td>\n",
       "      <td>10</td>\n",
       "      <td>9.0</td>\n",
       "      <td>83</td>\n",
       "      <td>4</td>\n",
       "      <td>0.535782</td>\n",
       "    </tr>\n",
       "    <tr>\n",
       "      <th>3</th>\n",
       "      <td>1</td>\n",
       "      <td>49683</td>\n",
       "      <td>4</td>\n",
       "      <td>0</td>\n",
       "      <td>112108</td>\n",
       "      <td>train</td>\n",
       "      <td>4</td>\n",
       "      <td>4</td>\n",
       "      <td>10</td>\n",
       "      <td>9.0</td>\n",
       "      <td>83</td>\n",
       "      <td>4</td>\n",
       "      <td>0.708247</td>\n",
       "    </tr>\n",
       "    <tr>\n",
       "      <th>4</th>\n",
       "      <td>1</td>\n",
       "      <td>43633</td>\n",
       "      <td>5</td>\n",
       "      <td>1</td>\n",
       "      <td>112108</td>\n",
       "      <td>train</td>\n",
       "      <td>4</td>\n",
       "      <td>4</td>\n",
       "      <td>10</td>\n",
       "      <td>9.0</td>\n",
       "      <td>95</td>\n",
       "      <td>15</td>\n",
       "      <td>0.416667</td>\n",
       "    </tr>\n",
       "    <tr>\n",
       "      <th>...</th>\n",
       "      <td>...</td>\n",
       "      <td>...</td>\n",
       "      <td>...</td>\n",
       "      <td>...</td>\n",
       "      <td>...</td>\n",
       "      <td>...</td>\n",
       "      <td>...</td>\n",
       "      <td>...</td>\n",
       "      <td>...</td>\n",
       "      <td>...</td>\n",
       "      <td>...</td>\n",
       "      <td>...</td>\n",
       "      <td>...</td>\n",
       "    </tr>\n",
       "    <tr>\n",
       "      <th>3603828</th>\n",
       "      <td>3421083</td>\n",
       "      <td>39678</td>\n",
       "      <td>6</td>\n",
       "      <td>1</td>\n",
       "      <td>25247</td>\n",
       "      <td>prior</td>\n",
       "      <td>24</td>\n",
       "      <td>2</td>\n",
       "      <td>6</td>\n",
       "      <td>21.0</td>\n",
       "      <td>74</td>\n",
       "      <td>17</td>\n",
       "      <td>NaN</td>\n",
       "    </tr>\n",
       "    <tr>\n",
       "      <th>3603829</th>\n",
       "      <td>3421083</td>\n",
       "      <td>11352</td>\n",
       "      <td>7</td>\n",
       "      <td>0</td>\n",
       "      <td>25247</td>\n",
       "      <td>prior</td>\n",
       "      <td>24</td>\n",
       "      <td>2</td>\n",
       "      <td>6</td>\n",
       "      <td>21.0</td>\n",
       "      <td>78</td>\n",
       "      <td>19</td>\n",
       "      <td>NaN</td>\n",
       "    </tr>\n",
       "    <tr>\n",
       "      <th>3603830</th>\n",
       "      <td>3421083</td>\n",
       "      <td>4600</td>\n",
       "      <td>8</td>\n",
       "      <td>0</td>\n",
       "      <td>25247</td>\n",
       "      <td>prior</td>\n",
       "      <td>24</td>\n",
       "      <td>2</td>\n",
       "      <td>6</td>\n",
       "      <td>21.0</td>\n",
       "      <td>52</td>\n",
       "      <td>1</td>\n",
       "      <td>NaN</td>\n",
       "    </tr>\n",
       "    <tr>\n",
       "      <th>3603831</th>\n",
       "      <td>3421083</td>\n",
       "      <td>24852</td>\n",
       "      <td>9</td>\n",
       "      <td>1</td>\n",
       "      <td>25247</td>\n",
       "      <td>prior</td>\n",
       "      <td>24</td>\n",
       "      <td>2</td>\n",
       "      <td>6</td>\n",
       "      <td>21.0</td>\n",
       "      <td>24</td>\n",
       "      <td>4</td>\n",
       "      <td>NaN</td>\n",
       "    </tr>\n",
       "    <tr>\n",
       "      <th>3603832</th>\n",
       "      <td>3421083</td>\n",
       "      <td>5020</td>\n",
       "      <td>10</td>\n",
       "      <td>1</td>\n",
       "      <td>25247</td>\n",
       "      <td>prior</td>\n",
       "      <td>24</td>\n",
       "      <td>2</td>\n",
       "      <td>6</td>\n",
       "      <td>21.0</td>\n",
       "      <td>3</td>\n",
       "      <td>19</td>\n",
       "      <td>NaN</td>\n",
       "    </tr>\n",
       "  </tbody>\n",
       "</table>\n",
       "<p>33819114 rows × 13 columns</p>\n",
       "</div>"
      ],
      "text/plain": [
       "         order_id  product_id  add_to_cart_order  reordered  user_id eval_set  \\\n",
       "0               1       49302                  1          1   112108    train   \n",
       "1               1       11109                  2          1   112108    train   \n",
       "2               1       10246                  3          0   112108    train   \n",
       "3               1       49683                  4          0   112108    train   \n",
       "4               1       43633                  5          1   112108    train   \n",
       "...           ...         ...                ...        ...      ...      ...   \n",
       "3603828   3421083       39678                  6          1    25247    prior   \n",
       "3603829   3421083       11352                  7          0    25247    prior   \n",
       "3603830   3421083        4600                  8          0    25247    prior   \n",
       "3603831   3421083       24852                  9          1    25247    prior   \n",
       "3603832   3421083        5020                 10          1    25247    prior   \n",
       "\n",
       "         order_number  order_dow  order_hour_of_day  days_since_prior_order  \\\n",
       "0                   4          4                 10                     9.0   \n",
       "1                   4          4                 10                     9.0   \n",
       "2                   4          4                 10                     9.0   \n",
       "3                   4          4                 10                     9.0   \n",
       "4                   4          4                 10                     9.0   \n",
       "...               ...        ...                ...                     ...   \n",
       "3603828            24          2                  6                    21.0   \n",
       "3603829            24          2                  6                    21.0   \n",
       "3603830            24          2                  6                    21.0   \n",
       "3603831            24          2                  6                    21.0   \n",
       "3603832            24          2                  6                    21.0   \n",
       "\n",
       "         aisle_id  department_id      prob  \n",
       "0             120             16  0.875000  \n",
       "1             108             16  0.743056  \n",
       "2              83              4  0.535782  \n",
       "3              83              4  0.708247  \n",
       "4              95             15  0.416667  \n",
       "...           ...            ...       ...  \n",
       "3603828        74             17       NaN  \n",
       "3603829        78             19       NaN  \n",
       "3603830        52              1       NaN  \n",
       "3603831        24              4       NaN  \n",
       "3603832         3             19       NaN  \n",
       "\n",
       "[33819114 rows x 13 columns]"
      ]
     },
     "execution_count": 14,
     "metadata": {},
     "output_type": "execute_result"
    }
   ],
   "source": [
    "order_details"
   ]
  },
  {
   "cell_type": "code",
   "execution_count": 15,
   "metadata": {
    "execution": {
     "iopub.execute_input": "2020-12-05T15:23:23.792037Z",
     "iopub.status.busy": "2020-12-05T15:23:23.791206Z",
     "iopub.status.idle": "2020-12-05T15:23:25.271776Z",
     "shell.execute_reply": "2020-12-05T15:23:25.271232Z"
    },
    "papermill": {
     "duration": 5.367346,
     "end_time": "2020-12-05T15:23:25.271886",
     "exception": false,
     "start_time": "2020-12-05T15:23:19.904540",
     "status": "completed"
    },
    "tags": []
   },
   "outputs": [],
   "source": [
    "order_details['eval_set'] = order_details['eval_set'].astype('category')"
   ]
  },
  {
   "cell_type": "code",
   "execution_count": 16,
   "metadata": {
    "execution": {
     "iopub.execute_input": "2020-12-05T15:23:25.335381Z",
     "iopub.status.busy": "2020-12-05T15:23:25.334490Z",
     "iopub.status.idle": "2020-12-05T15:23:25.339809Z",
     "shell.execute_reply": "2020-12-05T15:23:25.338922Z"
    },
    "papermill": {
     "duration": 0.047491,
     "end_time": "2020-12-05T15:23:25.339969",
     "exception": false,
     "start_time": "2020-12-05T15:23:25.292478",
     "status": "completed"
    },
    "tags": []
   },
   "outputs": [
    {
     "name": "stdout",
     "output_type": "stream",
     "text": [
      "Datafame length: 33819114\n",
      "Memory consumption: 1225.59 Mb\n",
      "order_id                     int32\n",
      "product_id                  uint16\n",
      "add_to_cart_order            int16\n",
      "reordered                     int8\n",
      "user_id                      int32\n",
      "eval_set                  category\n",
      "order_number                 int16\n",
      "order_dow                     int8\n",
      "order_hour_of_day             int8\n",
      "days_since_prior_order     float16\n",
      "aisle_id                     uint8\n",
      "department_id                 int8\n",
      "prob                       float64\n",
      "dtype: object\n"
     ]
    }
   ],
   "source": [
    "print('Datafame length: {}'.format(order_details.shape[0]))\n",
    "print('Memory consumption: {:.2f} Mb'.format(sum(order_details.memory_usage(index=True, \n",
    "                                                                         deep=True) / 2**20)))\n",
    "# check dtypes to see if we use memory effectively\n",
    "print(order_details.dtypes)"
   ]
  },
  {
   "cell_type": "code",
   "execution_count": 17,
   "metadata": {
    "execution": {
     "iopub.execute_input": "2020-12-05T15:23:25.407517Z",
     "iopub.status.busy": "2020-12-05T15:23:25.406732Z",
     "iopub.status.idle": "2020-12-05T15:23:25.425949Z",
     "shell.execute_reply": "2020-12-05T15:23:25.425282Z"
    },
    "papermill": {
     "duration": 0.054664,
     "end_time": "2020-12-05T15:23:25.426070",
     "exception": false,
     "start_time": "2020-12-05T15:23:25.371406",
     "status": "completed"
    },
    "tags": []
   },
   "outputs": [],
   "source": [
    "# make sure we didn't forget to retain test dataset :D\n",
    "test_orders = orders_full[orders_full.eval_set == 'test']\n",
    "\n",
    "# delete (redundant now) dataframes\n",
    "del orders_prior, orders_full"
   ]
  },
  {
   "cell_type": "code",
   "execution_count": 18,
   "metadata": {
    "execution": {
     "iopub.execute_input": "2020-12-05T15:23:25.494179Z",
     "iopub.status.busy": "2020-12-05T15:23:25.492893Z",
     "iopub.status.idle": "2020-12-05T15:23:30.700331Z",
     "shell.execute_reply": "2020-12-05T15:23:30.699519Z"
    },
    "papermill": {
     "duration": 5.243697,
     "end_time": "2020-12-05T15:23:30.700478",
     "exception": false,
     "start_time": "2020-12-05T15:23:25.456781",
     "status": "completed"
    },
    "tags": []
   },
   "outputs": [],
   "source": [
    "test_history = order_details[(order_details.user_id.isin(test_orders.user_id))]\n",
    "last_orders = test_history.groupby('user_id')['order_number'].max()"
   ]
  },
  {
   "cell_type": "code",
   "execution_count": 19,
   "metadata": {
    "execution": {
     "iopub.execute_input": "2020-12-05T15:23:30.774915Z",
     "iopub.status.busy": "2020-12-05T15:23:30.773837Z",
     "iopub.status.idle": "2020-12-05T15:23:30.776668Z",
     "shell.execute_reply": "2020-12-05T15:23:30.776114Z"
    },
    "papermill": {
     "duration": 0.043598,
     "end_time": "2020-12-05T15:23:30.776765",
     "exception": false,
     "start_time": "2020-12-05T15:23:30.733167",
     "status": "completed"
    },
    "tags": []
   },
   "outputs": [],
   "source": [
    "def get_last_orders_reordered():\n",
    "    t = pd.merge(\n",
    "            left=pd.merge(\n",
    "                    left=last_orders.reset_index(),\n",
    "                    right=test_history[test_history.reordered == 1],\n",
    "                    how='left',\n",
    "                    on=['user_id', 'order_number']\n",
    "                )[['user_id', 'product_id']],\n",
    "            right=test_orders[['user_id', 'order_id']],\n",
    "            how='left',\n",
    "            on='user_id'\n",
    "        ).fillna(-1).groupby('order_id')['product_id'].apply(lambda x: ' '.join([str(int(e)) for e in set(x)]) \n",
    "                                                  ).reset_index().replace(to_replace='-1', \n",
    "                                                                          value='None')\n",
    "    t.columns = ['order_id', 'products']\n",
    "    return t"
   ]
  },
  {
   "cell_type": "code",
   "execution_count": 20,
   "metadata": {
    "execution": {
     "iopub.execute_input": "2020-12-05T15:23:30.824548Z",
     "iopub.status.busy": "2020-12-05T15:23:30.823283Z",
     "iopub.status.idle": "2020-12-05T15:23:34.997031Z",
     "shell.execute_reply": "2020-12-05T15:23:34.996164Z"
    },
    "papermill": {
     "duration": 4.199289,
     "end_time": "2020-12-05T15:23:34.997138",
     "exception": false,
     "start_time": "2020-12-05T15:23:30.797849",
     "status": "completed"
    },
    "tags": []
   },
   "outputs": [],
   "source": [
    "get_last_orders_reordered().to_csv('last_order_reordered_only.csv', \n",
    "                         encoding='utf-8', \n",
    "                         index=False)"
   ]
  },
  {
   "cell_type": "code",
   "execution_count": null,
   "metadata": {
    "papermill": {
     "duration": 0.020608,
     "end_time": "2020-12-05T15:23:35.039035",
     "exception": false,
     "start_time": "2020-12-05T15:23:35.018427",
     "status": "completed"
    },
    "tags": []
   },
   "outputs": [],
   "source": []
  }
 ],
 "metadata": {
  "kernelspec": {
   "display_name": "Python 3",
   "language": "python",
   "name": "python3"
  },
  "language_info": {
   "codemirror_mode": {
    "name": "ipython",
    "version": 3
   },
   "file_extension": ".py",
   "mimetype": "text/x-python",
   "name": "python",
   "nbconvert_exporter": "python",
   "pygments_lexer": "ipython3",
   "version": "3.7.6"
  },
  "papermill": {
   "duration": 72.242271,
   "end_time": "2020-12-05T15:23:35.166923",
   "environment_variables": {},
   "exception": null,
   "input_path": "__notebook__.ipynb",
   "output_path": "__notebook__.ipynb",
   "parameters": {},
   "start_time": "2020-12-05T15:22:22.924652",
   "version": "2.1.0"
  }
 },
 "nbformat": 4,
 "nbformat_minor": 4
}
