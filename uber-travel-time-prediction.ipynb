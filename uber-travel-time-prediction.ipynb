{
 "cells": [
  {
   "cell_type": "code",
   "execution_count": 1,
   "metadata": {
    "_cell_guid": "b1076dfc-b9ad-4769-8c92-a6c4dae69d19",
    "_uuid": "8f2839f25d086af736a60e9eeb907d3b93b6e0e5",
    "execution": {
     "iopub.execute_input": "2020-10-22T20:24:10.171045Z",
     "iopub.status.busy": "2020-10-22T20:24:10.170151Z",
     "iopub.status.idle": "2020-10-22T20:24:11.227601Z",
     "shell.execute_reply": "2020-10-22T20:24:11.226645Z"
    },
    "papermill": {
     "duration": 1.104424,
     "end_time": "2020-10-22T20:24:11.227753",
     "exception": false,
     "start_time": "2020-10-22T20:24:10.123329",
     "status": "completed"
    },
    "tags": []
   },
   "outputs": [],
   "source": [
    "# This Python 3 environment comes with many helpful analytics libraries installed\n",
    "# It is defined by the kaggle/python Docker image: https://github.com/kaggle/docker-python\n",
    "# For example, here's several helpful packages to load\n",
    "\n",
    "import pandas as pd\n",
    "import geopandas as gpd\n",
    "import numpy as np\n",
    "import requests\n",
    "import shapely\n",
    "import matplotlib.pyplot as plot\n",
    "%matplotlib inline\n",
    "\n",
    "\n",
    "# You can write up to 5GB to the current directory (/kaggle/working/) that gets preserved as output when you create a version using \"Save & Run All\" \n",
    "# You can also write temporary files to /kaggle/temp/, but they won't be saved outside of the current session"
   ]
  },
  {
   "cell_type": "markdown",
   "metadata": {
    "papermill": {
     "duration": 0.037646,
     "end_time": "2020-10-22T20:24:11.307262",
     "exception": false,
     "start_time": "2020-10-22T20:24:11.269616",
     "status": "completed"
    },
    "tags": []
   },
   "source": [
    "# Reading Inputs\n",
    "\n",
    "Here, we consider Bangalore travel time data for January 2020 to March 2020."
   ]
  },
  {
   "cell_type": "code",
   "execution_count": 2,
   "metadata": {
    "_cell_guid": "79c7e3d0-c299-4dcb-8224-4455121ee9b0",
    "_uuid": "d629ff2d2480ee46fbb7e2d37f6b5fab8052498a",
    "execution": {
     "iopub.execute_input": "2020-10-22T20:24:11.397718Z",
     "iopub.status.busy": "2020-10-22T20:24:11.396861Z",
     "iopub.status.idle": "2020-10-22T20:24:12.879654Z",
     "shell.execute_reply": "2020-10-22T20:24:12.878553Z"
    },
    "papermill": {
     "duration": 1.533212,
     "end_time": "2020-10-22T20:24:12.879793",
     "exception": false,
     "start_time": "2020-10-22T20:24:11.346581",
     "status": "completed"
    },
    "tags": []
   },
   "outputs": [],
   "source": [
    "travel_times = pd.read_csv('/kaggle/input/uber-movement-data/Travel_Times.csv')\n",
    "travel_times_daily = pd.read_csv('/kaggle/input/uber-movement-data/Travel_Times_Daily.csv')\n",
    "travel_times_day = pd.read_csv('/kaggle/input/uber-movement-data/Travel_Times_time_of_day.csv')\n",
    "travel_times_week = pd.read_csv('/kaggle/input/uber-movement-data/Travel_Times_day_of_week.csv')\n",
    "bnglr_wards_hourly = pd.read_csv('/kaggle/input/uber-movement-data/bangalore-wards-2020-1-All-HourlyAggregate.csv')\n",
    "bnglr_wards_weekly = pd.read_csv('/kaggle/input/uber-movement-data/bangalore-wards-2020-1-WeeklyAggregate.csv')\n",
    "bnglr_wards_monthly = pd.read_csv('/kaggle/input/uber-movement-data/bangalore-wards-2020-1-All-MonthlyAggregate.csv')"
   ]
  },
  {
   "cell_type": "markdown",
   "metadata": {
    "papermill": {
     "duration": 0.04274,
     "end_time": "2020-10-22T20:24:12.961303",
     "exception": false,
     "start_time": "2020-10-22T20:24:12.918563",
     "status": "completed"
    },
    "tags": []
   },
   "source": [
    "We'll consider the hourly travel time average for modelling."
   ]
  },
  {
   "cell_type": "code",
   "execution_count": 3,
   "metadata": {
    "execution": {
     "iopub.execute_input": "2020-10-22T20:24:13.057673Z",
     "iopub.status.busy": "2020-10-22T20:24:13.050324Z",
     "iopub.status.idle": "2020-10-22T20:24:13.070250Z",
     "shell.execute_reply": "2020-10-22T20:24:13.069580Z"
    },
    "papermill": {
     "duration": 0.070083,
     "end_time": "2020-10-22T20:24:13.070381",
     "exception": false,
     "start_time": "2020-10-22T20:24:13.000298",
     "status": "completed"
    },
    "tags": []
   },
   "outputs": [
    {
     "data": {
      "text/html": [
       "<div>\n",
       "<style scoped>\n",
       "    .dataframe tbody tr th:only-of-type {\n",
       "        vertical-align: middle;\n",
       "    }\n",
       "\n",
       "    .dataframe tbody tr th {\n",
       "        vertical-align: top;\n",
       "    }\n",
       "\n",
       "    .dataframe thead th {\n",
       "        text-align: right;\n",
       "    }\n",
       "</style>\n",
       "<table border=\"1\" class=\"dataframe\">\n",
       "  <thead>\n",
       "    <tr style=\"text-align: right;\">\n",
       "      <th></th>\n",
       "      <th>sourceid</th>\n",
       "      <th>dstid</th>\n",
       "      <th>hod</th>\n",
       "      <th>mean_travel_time</th>\n",
       "      <th>standard_deviation_travel_time</th>\n",
       "      <th>geometric_mean_travel_time</th>\n",
       "      <th>geometric_standard_deviation_travel_time</th>\n",
       "    </tr>\n",
       "  </thead>\n",
       "  <tbody>\n",
       "    <tr>\n",
       "      <th>0</th>\n",
       "      <td>183</td>\n",
       "      <td>54</td>\n",
       "      <td>22</td>\n",
       "      <td>3071.62</td>\n",
       "      <td>553.06</td>\n",
       "      <td>3016.74</td>\n",
       "      <td>1.22</td>\n",
       "    </tr>\n",
       "    <tr>\n",
       "      <th>1</th>\n",
       "      <td>186</td>\n",
       "      <td>24</td>\n",
       "      <td>22</td>\n",
       "      <td>991.61</td>\n",
       "      <td>241.55</td>\n",
       "      <td>969.45</td>\n",
       "      <td>1.22</td>\n",
       "    </tr>\n",
       "  </tbody>\n",
       "</table>\n",
       "</div>"
      ],
      "text/plain": [
       "   sourceid  dstid  hod  mean_travel_time  standard_deviation_travel_time  \\\n",
       "0       183     54   22           3071.62                          553.06   \n",
       "1       186     24   22            991.61                          241.55   \n",
       "\n",
       "   geometric_mean_travel_time  geometric_standard_deviation_travel_time  \n",
       "0                     3016.74                                      1.22  \n",
       "1                      969.45                                      1.22  "
      ]
     },
     "execution_count": 3,
     "metadata": {},
     "output_type": "execute_result"
    }
   ],
   "source": [
    "bnglr_wards_hourly.head(2)"
   ]
  },
  {
   "cell_type": "code",
   "execution_count": 4,
   "metadata": {
    "execution": {
     "iopub.execute_input": "2020-10-22T20:24:13.179341Z",
     "iopub.status.busy": "2020-10-22T20:24:13.178304Z",
     "iopub.status.idle": "2020-10-22T20:24:13.607843Z",
     "shell.execute_reply": "2020-10-22T20:24:13.607182Z"
    },
    "papermill": {
     "duration": 0.4934,
     "end_time": "2020-10-22T20:24:13.607971",
     "exception": false,
     "start_time": "2020-10-22T20:24:13.114571",
     "status": "completed"
    },
    "tags": []
   },
   "outputs": [
    {
     "data": {
      "image/png": "[encoded data removed]",
      "text/plain": [
       "<Figure size 1152x504 with 1 Axes>"
      ]
     },
     "metadata": {
      "needs_background": "light"
     },
     "output_type": "display_data"
    }
   ],
   "source": [
    "mean_travel_time_by_hour_of_day = bnglr_wards_hourly.groupby('hod')['mean_travel_time'].mean()/60\n",
    "plt = mean_travel_time_by_hour_of_day.plot(kind=\"bar\", figsize=(16,7))\n",
    "plt.set_title('Mean travel times around Bangalore',fontsize=20)\n",
    "plt.set_xlabel('Hour of day', fontsize=16)\n",
    "_ = plt.set_ylabel('Mean travel time in mins', fontsize=16)"
   ]
  },
  {
   "cell_type": "code",
   "execution_count": 5,
   "metadata": {
    "execution": {
     "iopub.execute_input": "2020-10-22T20:24:13.700574Z",
     "iopub.status.busy": "2020-10-22T20:24:13.699744Z",
     "iopub.status.idle": "2020-10-22T20:24:14.016330Z",
     "shell.execute_reply": "2020-10-22T20:24:14.015553Z"
    },
    "papermill": {
     "duration": 0.366597,
     "end_time": "2020-10-22T20:24:14.016474",
     "exception": false,
     "start_time": "2020-10-22T20:24:13.649877",
     "status": "completed"
    },
    "tags": []
   },
   "outputs": [
    {
     "data": {
      "image/png": "[encoded data removed]",
      "text/plain": [
       "<Figure size 1152x504 with 1 Axes>"
      ]
     },
     "metadata": {
      "needs_background": "light"
     },
     "output_type": "display_data"
    }
   ],
   "source": [
    "std_dev_time_by_hour_of_day = bnglr_wards_hourly.groupby('hod')['standard_deviation_travel_time'].mean()/60\n",
    "plt = std_dev_time_by_hour_of_day.plot(kind=\"bar\", figsize=(16,7))\n",
    "plt.set_title('Std Dev of travel times around Bangalore',fontsize=20)\n",
    "plt.set_xlabel('Hour of day', fontsize=16)\n",
    "_ = plt.set_ylabel('Std Dev of travel time in mins', fontsize=16)"
   ]
  },
  {
   "cell_type": "markdown",
   "metadata": {
    "papermill": {
     "duration": 0.040415,
     "end_time": "2020-10-22T20:24:14.098585",
     "exception": false,
     "start_time": "2020-10-22T20:24:14.058170",
     "status": "completed"
    },
    "tags": []
   },
   "source": [
    "# The ward data"
   ]
  },
  {
   "cell_type": "code",
   "execution_count": 6,
   "metadata": {
    "execution": {
     "iopub.execute_input": "2020-10-22T20:24:14.285613Z",
     "iopub.status.busy": "2020-10-22T20:24:14.284793Z",
     "iopub.status.idle": "2020-10-22T20:24:14.753187Z",
     "shell.execute_reply": "2020-10-22T20:24:14.752419Z"
    },
    "papermill": {
     "duration": 0.609809,
     "end_time": "2020-10-22T20:24:14.753320",
     "exception": false,
     "start_time": "2020-10-22T20:24:14.143511",
     "status": "completed"
    },
    "tags": []
   },
   "outputs": [
    {
     "data": {
      "text/plain": [
       "<matplotlib.axes._subplots.AxesSubplot at 0x7f4143c46990>"
      ]
     },
     "execution_count": 6,
     "metadata": {},
     "output_type": "execute_result"
    },
    {
     "data": {
      "image/png": "[encoded data removed]",
      "text/plain": [
       "<Figure size 432x288 with 1 Axes>"
      ]
     },
     "metadata": {
      "needs_background": "light"
     },
     "output_type": "display_data"
    }
   ],
   "source": [
    "bglr=gpd.read_file('/kaggle/input/uber-movement-data/bangalore_wards.json')\n",
    "bglr.plot()"
   ]
  },
  {
   "cell_type": "code",
   "execution_count": 7,
   "metadata": {
    "execution": {
     "iopub.execute_input": "2020-10-22T20:24:14.851909Z",
     "iopub.status.busy": "2020-10-22T20:24:14.851148Z",
     "iopub.status.idle": "2020-10-22T20:24:14.869754Z",
     "shell.execute_reply": "2020-10-22T20:24:14.868924Z"
    },
    "papermill": {
     "duration": 0.073063,
     "end_time": "2020-10-22T20:24:14.869893",
     "exception": false,
     "start_time": "2020-10-22T20:24:14.796830",
     "status": "completed"
    },
    "tags": []
   },
   "outputs": [
    {
     "data": {
      "text/html": [
       "<div>\n",
       "<style scoped>\n",
       "    .dataframe tbody tr th:only-of-type {\n",
       "        vertical-align: middle;\n",
       "    }\n",
       "\n",
       "    .dataframe tbody tr th {\n",
       "        vertical-align: top;\n",
       "    }\n",
       "\n",
       "    .dataframe thead th {\n",
       "        text-align: right;\n",
       "    }\n",
       "</style>\n",
       "<table border=\"1\" class=\"dataframe\">\n",
       "  <thead>\n",
       "    <tr style=\"text-align: right;\">\n",
       "      <th></th>\n",
       "      <th>WARD_NO</th>\n",
       "      <th>WARD_NAME</th>\n",
       "      <th>MOVEMENT_ID</th>\n",
       "      <th>DISPLAY_NAME</th>\n",
       "      <th>geometry</th>\n",
       "    </tr>\n",
       "  </thead>\n",
       "  <tbody>\n",
       "    <tr>\n",
       "      <th>0</th>\n",
       "      <td>2</td>\n",
       "      <td>Chowdeswari Ward</td>\n",
       "      <td>1</td>\n",
       "      <td>Unnamed Road, Bengaluru</td>\n",
       "      <td>MULTIPOLYGON (((77.59229 13.09720, 77.59094 13...</td>\n",
       "    </tr>\n",
       "    <tr>\n",
       "      <th>1</th>\n",
       "      <td>3</td>\n",
       "      <td>Atturu</td>\n",
       "      <td>2</td>\n",
       "      <td>9th Cross Bhel Layout, Adityanagar, Vidyaranya...</td>\n",
       "      <td>MULTIPOLYGON (((77.56862 13.12705, 77.57064 13...</td>\n",
       "    </tr>\n",
       "    <tr>\n",
       "      <th>2</th>\n",
       "      <td>4</td>\n",
       "      <td>Yelahanka Satellite Town</td>\n",
       "      <td>3</td>\n",
       "      <td>15th A Cross Road, Yelahanka Satellite Town, Y...</td>\n",
       "      <td>MULTIPOLYGON (((77.59094 13.09842, 77.59229 13...</td>\n",
       "    </tr>\n",
       "    <tr>\n",
       "      <th>3</th>\n",
       "      <td>51</td>\n",
       "      <td>Vijnanapura</td>\n",
       "      <td>4</td>\n",
       "      <td>SP Naidu Layout 4th Cross Street, SP Naidu Lay...</td>\n",
       "      <td>MULTIPOLYGON (((77.67683 13.01147, 77.67695 13...</td>\n",
       "    </tr>\n",
       "    <tr>\n",
       "      <th>4</th>\n",
       "      <td>53</td>\n",
       "      <td>Basavanapura</td>\n",
       "      <td>5</td>\n",
       "      <td>Medahalli Kadugodi Road, Bharathi Nagar, Krish...</td>\n",
       "      <td>MULTIPOLYGON (((77.72899 13.02061, 77.72994 13...</td>\n",
       "    </tr>\n",
       "  </tbody>\n",
       "</table>\n",
       "</div>"
      ],
      "text/plain": [
       "  WARD_NO                 WARD_NAME MOVEMENT_ID  \\\n",
       "0       2          Chowdeswari Ward           1   \n",
       "1       3                    Atturu           2   \n",
       "2       4  Yelahanka Satellite Town           3   \n",
       "3      51               Vijnanapura           4   \n",
       "4      53              Basavanapura           5   \n",
       "\n",
       "                                        DISPLAY_NAME  \\\n",
       "0                            Unnamed Road, Bengaluru   \n",
       "1  9th Cross Bhel Layout, Adityanagar, Vidyaranya...   \n",
       "2  15th A Cross Road, Yelahanka Satellite Town, Y...   \n",
       "3  SP Naidu Layout 4th Cross Street, SP Naidu Lay...   \n",
       "4  Medahalli Kadugodi Road, Bharathi Nagar, Krish...   \n",
       "\n",
       "                                            geometry  \n",
       "0  MULTIPOLYGON (((77.59229 13.09720, 77.59094 13...  \n",
       "1  MULTIPOLYGON (((77.56862 13.12705, 77.57064 13...  \n",
       "2  MULTIPOLYGON (((77.59094 13.09842, 77.59229 13...  \n",
       "3  MULTIPOLYGON (((77.67683 13.01147, 77.67695 13...  \n",
       "4  MULTIPOLYGON (((77.72899 13.02061, 77.72994 13...  "
      ]
     },
     "execution_count": 7,
     "metadata": {},
     "output_type": "execute_result"
    }
   ],
   "source": [
    "bglr.head()"
   ]
  },
  {
   "cell_type": "markdown",
   "metadata": {
    "papermill": {
     "duration": 0.044386,
     "end_time": "2020-10-22T20:24:14.958217",
     "exception": false,
     "start_time": "2020-10-22T20:24:14.913831",
     "status": "completed"
    },
    "tags": []
   },
   "source": [
    "# Picking centroids to represent an area"
   ]
  },
  {
   "cell_type": "code",
   "execution_count": 8,
   "metadata": {
    "execution": {
     "iopub.execute_input": "2020-10-22T20:24:15.065228Z",
     "iopub.status.busy": "2020-10-22T20:24:15.064107Z",
     "iopub.status.idle": "2020-10-22T20:24:15.566688Z",
     "shell.execute_reply": "2020-10-22T20:24:15.565917Z"
    },
    "papermill": {
     "duration": 0.564153,
     "end_time": "2020-10-22T20:24:15.566826",
     "exception": false,
     "start_time": "2020-10-22T20:24:15.002673",
     "status": "completed"
    },
    "tags": []
   },
   "outputs": [
    {
     "name": "stderr",
     "output_type": "stream",
     "text": [
      "/opt/conda/lib/python3.7/site-packages/ipykernel_launcher.py:3: UserWarning: Geometry is in a geographic CRS. Results from 'centroid' are likely incorrect. Use 'GeoSeries.to_crs()' to re-project geometries to a projected CRS before this operation.\n",
      "\n",
      "  This is separate from the ipykernel package so we can avoid doing imports until\n"
     ]
    },
    {
     "data": {
      "text/plain": [
       "<matplotlib.axes._subplots.AxesSubplot at 0x7f41439b4550>"
      ]
     },
     "execution_count": 8,
     "metadata": {},
     "output_type": "execute_result"
    },
    {
     "data": {
      "image/png": "[encoded data removed]",
      "text/plain": [
       "<Figure size 648x648 with 1 Axes>"
      ]
     },
     "metadata": {
      "needs_background": "light"
     },
     "output_type": "display_data"
    }
   ],
   "source": [
    "bglr = bglr.drop(columns=['WARD_NO', 'MOVEMENT_ID'])\n",
    "bglr_c = bglr.copy()\n",
    "bglr_c.geometry = bglr_c['geometry'].centroid\n",
    "fig, ax = plot.subplots(figsize=(9,9))\n",
    "bglr.plot(color='grey',ax=ax)\n",
    "bglr_c.plot(color='red',ax=ax)"
   ]
  },
  {
   "cell_type": "code",
   "execution_count": 9,
   "metadata": {
    "execution": {
     "iopub.execute_input": "2020-10-22T20:24:15.681268Z",
     "iopub.status.busy": "2020-10-22T20:24:15.680251Z",
     "iopub.status.idle": "2020-10-22T20:24:15.685461Z",
     "shell.execute_reply": "2020-10-22T20:24:15.684834Z"
    },
    "papermill": {
     "duration": 0.067917,
     "end_time": "2020-10-22T20:24:15.685606",
     "exception": false,
     "start_time": "2020-10-22T20:24:15.617689",
     "status": "completed"
    },
    "tags": []
   },
   "outputs": [
    {
     "data": {
      "text/html": [
       "<div>\n",
       "<style scoped>\n",
       "    .dataframe tbody tr th:only-of-type {\n",
       "        vertical-align: middle;\n",
       "    }\n",
       "\n",
       "    .dataframe tbody tr th {\n",
       "        vertical-align: top;\n",
       "    }\n",
       "\n",
       "    .dataframe thead th {\n",
       "        text-align: right;\n",
       "    }\n",
       "</style>\n",
       "<table border=\"1\" class=\"dataframe\">\n",
       "  <thead>\n",
       "    <tr style=\"text-align: right;\">\n",
       "      <th></th>\n",
       "      <th>id</th>\n",
       "      <th>name</th>\n",
       "    </tr>\n",
       "  </thead>\n",
       "  <tbody>\n",
       "    <tr>\n",
       "      <th>0</th>\n",
       "      <td>1</td>\n",
       "      <td>Unnamed Road, Bengaluru</td>\n",
       "    </tr>\n",
       "    <tr>\n",
       "      <th>1</th>\n",
       "      <td>2</td>\n",
       "      <td>9th Cross Bhel Layout, Adityanagar, Vidyaranya...</td>\n",
       "    </tr>\n",
       "    <tr>\n",
       "      <th>2</th>\n",
       "      <td>3</td>\n",
       "      <td>15th A Cross Road, Yelahanka Satellite Town, Y...</td>\n",
       "    </tr>\n",
       "    <tr>\n",
       "      <th>3</th>\n",
       "      <td>4</td>\n",
       "      <td>SP Naidu Layout 4th Cross Street, SP Naidu Lay...</td>\n",
       "    </tr>\n",
       "    <tr>\n",
       "      <th>4</th>\n",
       "      <td>5</td>\n",
       "      <td>Medahalli Kadugodi Road, Bharathi Nagar, Krish...</td>\n",
       "    </tr>\n",
       "  </tbody>\n",
       "</table>\n",
       "</div>"
      ],
      "text/plain": [
       "   id                                               name\n",
       "0   1                            Unnamed Road, Bengaluru\n",
       "1   2  9th Cross Bhel Layout, Adityanagar, Vidyaranya...\n",
       "2   3  15th A Cross Road, Yelahanka Satellite Town, Y...\n",
       "3   4  SP Naidu Layout 4th Cross Street, SP Naidu Lay...\n",
       "4   5  Medahalli Kadugodi Road, Bharathi Nagar, Krish..."
      ]
     },
     "execution_count": 9,
     "metadata": {},
     "output_type": "execute_result"
    }
   ],
   "source": [
    "id_to_dest = travel_times[['Destination Movement ID', 'Destination Display Name']]\n",
    "id_to_dest.columns = ['id', 'name']\n",
    "id_to_dest.head()\n"
   ]
  },
  {
   "cell_type": "markdown",
   "metadata": {
    "papermill": {
     "duration": 0.049112,
     "end_time": "2020-10-22T20:24:15.784412",
     "exception": false,
     "start_time": "2020-10-22T20:24:15.735300",
     "status": "completed"
    },
    "tags": []
   },
   "source": [
    "# Get some random points from each ward to diversify representation"
   ]
  },
  {
   "cell_type": "code",
   "execution_count": 10,
   "metadata": {
    "execution": {
     "iopub.execute_input": "2020-10-22T20:24:15.896050Z",
     "iopub.status.busy": "2020-10-22T20:24:15.890832Z",
     "iopub.status.idle": "2020-10-22T20:24:17.611204Z",
     "shell.execute_reply": "2020-10-22T20:24:17.610421Z"
    },
    "papermill": {
     "duration": 1.777209,
     "end_time": "2020-10-22T20:24:17.611332",
     "exception": false,
     "start_time": "2020-10-22T20:24:15.834123",
     "status": "completed"
    },
    "tags": []
   },
   "outputs": [
    {
     "data": {
      "text/html": [
       "<div>\n",
       "<style scoped>\n",
       "    .dataframe tbody tr th:only-of-type {\n",
       "        vertical-align: middle;\n",
       "    }\n",
       "\n",
       "    .dataframe tbody tr th {\n",
       "        vertical-align: top;\n",
       "    }\n",
       "\n",
       "    .dataframe thead th {\n",
       "        text-align: right;\n",
       "    }\n",
       "</style>\n",
       "<table border=\"1\" class=\"dataframe\">\n",
       "  <thead>\n",
       "    <tr style=\"text-align: right;\">\n",
       "      <th></th>\n",
       "      <th>WARD_NAME</th>\n",
       "      <th>DISPLAY_NAME</th>\n",
       "      <th>geometry</th>\n",
       "    </tr>\n",
       "  </thead>\n",
       "  <tbody>\n",
       "    <tr>\n",
       "      <th>125</th>\n",
       "      <td>Mahalakshimpuram</td>\n",
       "      <td>0 8th Cross Road, Satyanarayana Layout, Maruth...</td>\n",
       "      <td>POINT (77.54116 13.01009)</td>\n",
       "    </tr>\n",
       "    <tr>\n",
       "      <th>303</th>\n",
       "      <td>Okalipuram</td>\n",
       "      <td>0 3rd Cross Road, 4N Block, Ramchandrapuram, S...</td>\n",
       "      <td>POINT (77.56569 12.98792)</td>\n",
       "    </tr>\n",
       "    <tr>\n",
       "      <th>218</th>\n",
       "      <td>Lingarajapura</td>\n",
       "      <td>0 Lokesh Tent Main Road, Lingarajapura Village...</td>\n",
       "      <td>POINT (77.62889 13.00852)</td>\n",
       "    </tr>\n",
       "    <tr>\n",
       "      <th>214</th>\n",
       "      <td>Kadugondanahalli</td>\n",
       "      <td>0 5th Cross Road, Vinobha Nagar, Kadugondanaha...</td>\n",
       "      <td>POINT (77.61905 13.01672)</td>\n",
       "    </tr>\n",
       "    <tr>\n",
       "      <th>45</th>\n",
       "      <td>Kodigehalli</td>\n",
       "      <td>Gulmohar Residency, 6th A Cross Road, Bhadrapp...</td>\n",
       "      <td>POINT (77.57405 13.05721)</td>\n",
       "    </tr>\n",
       "  </tbody>\n",
       "</table>\n",
       "</div>"
      ],
      "text/plain": [
       "            WARD_NAME                                       DISPLAY_NAME  \\\n",
       "125  Mahalakshimpuram  0 8th Cross Road, Satyanarayana Layout, Maruth...   \n",
       "303        Okalipuram  0 3rd Cross Road, 4N Block, Ramchandrapuram, S...   \n",
       "218     Lingarajapura  0 Lokesh Tent Main Road, Lingarajapura Village...   \n",
       "214  Kadugondanahalli  0 5th Cross Road, Vinobha Nagar, Kadugondanaha...   \n",
       "45        Kodigehalli  Gulmohar Residency, 6th A Cross Road, Bhadrapp...   \n",
       "\n",
       "                      geometry  \n",
       "125  POINT (77.54116 13.01009)  \n",
       "303  POINT (77.56569 12.98792)  \n",
       "218  POINT (77.62889 13.00852)  \n",
       "214  POINT (77.61905 13.01672)  \n",
       "45   POINT (77.57405 13.05721)  "
      ]
     },
     "execution_count": 10,
     "metadata": {},
     "output_type": "execute_result"
    }
   ],
   "source": [
    "from shapely.geometry import Point\n",
    "import random\n",
    "\n",
    "# The number of rows with random points to be created corresponding to each row in source df\n",
    "number = 3\n",
    "\n",
    "def random_points_in_polygon(number, polygon):\n",
    "    points = []\n",
    "    min_x, min_y, max_x, max_y = polygon.bounds\n",
    "    i= 0\n",
    "    while i < number:\n",
    "        point = Point(random.uniform(min_x, max_x), random.uniform(min_y, max_y))\n",
    "        if polygon.contains(point):\n",
    "            points.append(point)\n",
    "            i += 1\n",
    "    return points\n",
    "\n",
    "def diversify_geo_data(df):\n",
    "    new_df = gpd.GeoDataFrame()\n",
    "    common_columns = df.columns\n",
    "    common_columns.tolist().remove('geometry')\n",
    "    for row in df.itertuples():\n",
    "        points = random_points_in_polygon(number, row.geometry)\n",
    "        for point in points:\n",
    "            tmp = gpd.GeoDataFrame(columns=df.columns, data=[list(row[1:3]) + [point]])\n",
    "            new_df = new_df.append(tmp, ignore_index=True)\n",
    "    return new_df\n",
    "            \n",
    "\n",
    "diversified_points = diversify_geo_data(bglr)\n",
    "diversified_points.sample(5)"
   ]
  },
  {
   "cell_type": "code",
   "execution_count": 11,
   "metadata": {
    "execution": {
     "iopub.execute_input": "2020-10-22T20:24:17.714869Z",
     "iopub.status.busy": "2020-10-22T20:24:17.713742Z",
     "iopub.status.idle": "2020-10-22T20:24:17.718939Z",
     "shell.execute_reply": "2020-10-22T20:24:17.718345Z"
    },
    "papermill": {
     "duration": 0.058968,
     "end_time": "2020-10-22T20:24:17.719069",
     "exception": false,
     "start_time": "2020-10-22T20:24:17.660101",
     "status": "completed"
    },
    "tags": []
   },
   "outputs": [
    {
     "data": {
      "text/plain": [
       "(594, 3)"
      ]
     },
     "execution_count": 11,
     "metadata": {},
     "output_type": "execute_result"
    }
   ],
   "source": [
    "diversified_points.shape"
   ]
  },
  {
   "cell_type": "code",
   "execution_count": 12,
   "metadata": {
    "execution": {
     "iopub.execute_input": "2020-10-22T20:24:17.834092Z",
     "iopub.status.busy": "2020-10-22T20:24:17.832366Z",
     "iopub.status.idle": "2020-10-22T20:24:18.254904Z",
     "shell.execute_reply": "2020-10-22T20:24:18.255556Z"
    },
    "papermill": {
     "duration": 0.486936,
     "end_time": "2020-10-22T20:24:18.255722",
     "exception": false,
     "start_time": "2020-10-22T20:24:17.768786",
     "status": "completed"
    },
    "tags": []
   },
   "outputs": [
    {
     "data": {
      "text/plain": [
       "<matplotlib.axes._subplots.AxesSubplot at 0x7f41438cded0>"
      ]
     },
     "execution_count": 12,
     "metadata": {},
     "output_type": "execute_result"
    },
    {
     "data": {
      "image/png": "[encoded data removed]",
      "text/plain": [
       "<Figure size 648x648 with 1 Axes>"
      ]
     },
     "metadata": {
      "needs_background": "light"
     },
     "output_type": "display_data"
    }
   ],
   "source": [
    "fig, ax = plot.subplots(figsize=(9,9))\n",
    "bglr.plot(color='grey',ax=ax)\n",
    "diversified_points.plot(color='red',ax=ax)"
   ]
  },
  {
   "cell_type": "markdown",
   "metadata": {
    "papermill": {
     "duration": 0.052606,
     "end_time": "2020-10-22T20:24:18.367293",
     "exception": false,
     "start_time": "2020-10-22T20:24:18.314687",
     "status": "completed"
    },
    "tags": []
   },
   "source": [
    "# Cleaning up data for analysis\n",
    "\n",
    "Got source and destination data and removed unneeded columns like geometric_mean_travel_time and geometric_standard_deviation_travel_time."
   ]
  },
  {
   "cell_type": "code",
   "execution_count": 13,
   "metadata": {
    "execution": {
     "iopub.execute_input": "2020-10-22T20:24:18.488418Z",
     "iopub.status.busy": "2020-10-22T20:24:18.487587Z",
     "iopub.status.idle": "2020-10-22T20:24:19.395873Z",
     "shell.execute_reply": "2020-10-22T20:24:19.395062Z"
    },
    "papermill": {
     "duration": 0.974984,
     "end_time": "2020-10-22T20:24:19.396029",
     "exception": false,
     "start_time": "2020-10-22T20:24:18.421045",
     "status": "completed"
    },
    "tags": []
   },
   "outputs": [
    {
     "data": {
      "text/html": [
       "<div>\n",
       "<style scoped>\n",
       "    .dataframe tbody tr th:only-of-type {\n",
       "        vertical-align: middle;\n",
       "    }\n",
       "\n",
       "    .dataframe tbody tr th {\n",
       "        vertical-align: top;\n",
       "    }\n",
       "\n",
       "    .dataframe thead th {\n",
       "        text-align: right;\n",
       "    }\n",
       "</style>\n",
       "<table border=\"1\" class=\"dataframe\">\n",
       "  <thead>\n",
       "    <tr style=\"text-align: right;\">\n",
       "      <th></th>\n",
       "      <th>sourceid</th>\n",
       "      <th>dstid</th>\n",
       "      <th>hod</th>\n",
       "      <th>mean_travel_time</th>\n",
       "      <th>standard_deviation_travel_time</th>\n",
       "      <th>Source Name</th>\n",
       "      <th>Destination Name</th>\n",
       "    </tr>\n",
       "  </thead>\n",
       "  <tbody>\n",
       "    <tr>\n",
       "      <th>272319</th>\n",
       "      <td>198</td>\n",
       "      <td>197</td>\n",
       "      <td>20</td>\n",
       "      <td>4001.08</td>\n",
       "      <td>583.40</td>\n",
       "      <td>BGS Road, Kodipalya, Bengaluru</td>\n",
       "      <td>0 3rd Cross Road, Manjunatha Layout, Marathaha...</td>\n",
       "    </tr>\n",
       "    <tr>\n",
       "      <th>272337</th>\n",
       "      <td>198</td>\n",
       "      <td>197</td>\n",
       "      <td>21</td>\n",
       "      <td>3636.68</td>\n",
       "      <td>614.63</td>\n",
       "      <td>BGS Road, Kodipalya, Bengaluru</td>\n",
       "      <td>0 3rd Cross Road, Manjunatha Layout, Marathaha...</td>\n",
       "    </tr>\n",
       "    <tr>\n",
       "      <th>272324</th>\n",
       "      <td>198</td>\n",
       "      <td>197</td>\n",
       "      <td>22</td>\n",
       "      <td>3082.11</td>\n",
       "      <td>471.47</td>\n",
       "      <td>BGS Road, Kodipalya, Bengaluru</td>\n",
       "      <td>0 3rd Cross Road, Manjunatha Layout, Marathaha...</td>\n",
       "    </tr>\n",
       "    <tr>\n",
       "      <th>272330</th>\n",
       "      <td>198</td>\n",
       "      <td>197</td>\n",
       "      <td>23</td>\n",
       "      <td>2905.84</td>\n",
       "      <td>619.53</td>\n",
       "      <td>BGS Road, Kodipalya, Bengaluru</td>\n",
       "      <td>0 3rd Cross Road, Manjunatha Layout, Marathaha...</td>\n",
       "    </tr>\n",
       "    <tr>\n",
       "      <th>366043</th>\n",
       "      <td>198</td>\n",
       "      <td>198</td>\n",
       "      <td>23</td>\n",
       "      <td>458.84</td>\n",
       "      <td>562.24</td>\n",
       "      <td>BGS Road, Kodipalya, Bengaluru</td>\n",
       "      <td>BGS Road, Kodipalya, Bengaluru</td>\n",
       "    </tr>\n",
       "  </tbody>\n",
       "</table>\n",
       "</div>"
      ],
      "text/plain": [
       "        sourceid  dstid  hod  mean_travel_time  \\\n",
       "272319       198    197   20           4001.08   \n",
       "272337       198    197   21           3636.68   \n",
       "272324       198    197   22           3082.11   \n",
       "272330       198    197   23           2905.84   \n",
       "366043       198    198   23            458.84   \n",
       "\n",
       "        standard_deviation_travel_time                     Source Name  \\\n",
       "272319                          583.40  BGS Road, Kodipalya, Bengaluru   \n",
       "272337                          614.63  BGS Road, Kodipalya, Bengaluru   \n",
       "272324                          471.47  BGS Road, Kodipalya, Bengaluru   \n",
       "272330                          619.53  BGS Road, Kodipalya, Bengaluru   \n",
       "366043                          562.24  BGS Road, Kodipalya, Bengaluru   \n",
       "\n",
       "                                         Destination Name  \n",
       "272319  0 3rd Cross Road, Manjunatha Layout, Marathaha...  \n",
       "272337  0 3rd Cross Road, Manjunatha Layout, Marathaha...  \n",
       "272324  0 3rd Cross Road, Manjunatha Layout, Marathaha...  \n",
       "272330  0 3rd Cross Road, Manjunatha Layout, Marathaha...  \n",
       "366043                     BGS Road, Kodipalya, Bengaluru  "
      ]
     },
     "execution_count": 13,
     "metadata": {},
     "output_type": "execute_result"
    }
   ],
   "source": [
    "time_df = pd.merge(bnglr_wards_hourly, id_to_dest, left_on=['sourceid'], right_on=['id'], how='inner')\n",
    "time_df = time_df.drop(columns=['id', 'geometric_mean_travel_time', 'geometric_standard_deviation_travel_time'])\n",
    "time_df = time_df.rename(columns={'name': 'Source Name'})\n",
    "time_df = pd.merge(time_df, id_to_dest, left_on=['dstid'], right_on=['id'], how='inner')\n",
    "time_df = time_df.drop(columns=['id'])\n",
    "time_df = time_df.rename(columns={'name': 'Destination Name'})\n",
    "time_df = time_df.sort_values(by=['sourceid', 'dstid', 'hod'])\n",
    "time_df.tail(5)"
   ]
  },
  {
   "cell_type": "code",
   "execution_count": 14,
   "metadata": {
    "execution": {
     "iopub.execute_input": "2020-10-22T20:24:19.511244Z",
     "iopub.status.busy": "2020-10-22T20:24:19.510399Z",
     "iopub.status.idle": "2020-10-22T20:24:19.514914Z",
     "shell.execute_reply": "2020-10-22T20:24:19.515461Z"
    },
    "papermill": {
     "duration": 0.06347,
     "end_time": "2020-10-22T20:24:19.515646",
     "exception": false,
     "start_time": "2020-10-22T20:24:19.452176",
     "status": "completed"
    },
    "tags": []
   },
   "outputs": [
    {
     "data": {
      "text/plain": [
       "(198, 3)"
      ]
     },
     "execution_count": 14,
     "metadata": {},
     "output_type": "execute_result"
    }
   ],
   "source": [
    "bglr_c.shape"
   ]
  },
  {
   "cell_type": "code",
   "execution_count": 15,
   "metadata": {
    "execution": {
     "iopub.execute_input": "2020-10-22T20:24:19.630912Z",
     "iopub.status.busy": "2020-10-22T20:24:19.630000Z",
     "iopub.status.idle": "2020-10-22T20:24:19.634844Z",
     "shell.execute_reply": "2020-10-22T20:24:19.634156Z"
    },
    "papermill": {
     "duration": 0.065411,
     "end_time": "2020-10-22T20:24:19.634982",
     "exception": false,
     "start_time": "2020-10-22T20:24:19.569571",
     "status": "completed"
    },
    "tags": []
   },
   "outputs": [
    {
     "data": {
      "text/plain": [
       "(594, 3)"
      ]
     },
     "execution_count": 15,
     "metadata": {},
     "output_type": "execute_result"
    }
   ],
   "source": [
    "diversified_points.shape"
   ]
  },
  {
   "cell_type": "code",
   "execution_count": 16,
   "metadata": {
    "execution": {
     "iopub.execute_input": "2020-10-22T20:24:19.756489Z",
     "iopub.status.busy": "2020-10-22T20:24:19.755374Z",
     "iopub.status.idle": "2020-10-22T20:24:19.759811Z",
     "shell.execute_reply": "2020-10-22T20:24:19.760370Z"
    },
    "papermill": {
     "duration": 0.071197,
     "end_time": "2020-10-22T20:24:19.760609",
     "exception": false,
     "start_time": "2020-10-22T20:24:19.689412",
     "status": "completed"
    },
    "tags": []
   },
   "outputs": [
    {
     "data": {
      "text/plain": [
       "(792, 3)"
      ]
     },
     "execution_count": 16,
     "metadata": {},
     "output_type": "execute_result"
    }
   ],
   "source": [
    "full_bglr = bglr_c.append(diversified_points, ignore_index=True)\n",
    "full_bglr.shape"
   ]
  },
  {
   "cell_type": "code",
   "execution_count": 17,
   "metadata": {
    "execution": {
     "iopub.execute_input": "2020-10-22T20:24:19.950725Z",
     "iopub.status.busy": "2020-10-22T20:24:19.949921Z",
     "iopub.status.idle": "2020-10-22T20:24:33.241861Z",
     "shell.execute_reply": "2020-10-22T20:24:33.242500Z"
    },
    "papermill": {
     "duration": 13.424367,
     "end_time": "2020-10-22T20:24:33.242714",
     "exception": false,
     "start_time": "2020-10-22T20:24:19.818347",
     "status": "completed"
    },
    "tags": []
   },
   "outputs": [
    {
     "data": {
      "text/html": [
       "<div>\n",
       "<style scoped>\n",
       "    .dataframe tbody tr th:only-of-type {\n",
       "        vertical-align: middle;\n",
       "    }\n",
       "\n",
       "    .dataframe tbody tr th {\n",
       "        vertical-align: top;\n",
       "    }\n",
       "\n",
       "    .dataframe thead th {\n",
       "        text-align: right;\n",
       "    }\n",
       "</style>\n",
       "<table border=\"1\" class=\"dataframe\">\n",
       "  <thead>\n",
       "    <tr style=\"text-align: right;\">\n",
       "      <th></th>\n",
       "      <th>sourceid</th>\n",
       "      <th>dstid</th>\n",
       "      <th>hod</th>\n",
       "      <th>mean_travel_time</th>\n",
       "      <th>standard_deviation_travel_time</th>\n",
       "      <th>Source Name</th>\n",
       "      <th>Destination Name</th>\n",
       "      <th>Source Ward Name</th>\n",
       "      <th>Source Geometry</th>\n",
       "      <th>Destination Ward Name</th>\n",
       "      <th>Destination Geometry</th>\n",
       "    </tr>\n",
       "  </thead>\n",
       "  <tbody>\n",
       "    <tr>\n",
       "      <th>7161523</th>\n",
       "      <td>85</td>\n",
       "      <td>114</td>\n",
       "      <td>4</td>\n",
       "      <td>1464.73</td>\n",
       "      <td>236.73</td>\n",
       "      <td>Kensington Road, Ulsoor, Bengaluru</td>\n",
       "      <td>0 16th Main Road, CHBS Layout, Stage 2, Vijaya...</td>\n",
       "      <td>Halsoor</td>\n",
       "      <td>POINT (77.61982 12.97970)</td>\n",
       "      <td>Marenahalli</td>\n",
       "      <td>POINT (77.52851 12.97048)</td>\n",
       "    </tr>\n",
       "    <tr>\n",
       "      <th>761758</th>\n",
       "      <td>62</td>\n",
       "      <td>12</td>\n",
       "      <td>18</td>\n",
       "      <td>2387.54</td>\n",
       "      <td>529.95</td>\n",
       "      <td>null4th Cross Road, Modi Garden, Kaval Bairasa...</td>\n",
       "      <td>5th Main Singapura Layout, Bengaluru</td>\n",
       "      <td>Devara Jeevanahalli</td>\n",
       "      <td>POINT (77.60056 13.01131)</td>\n",
       "      <td>Kuvempu Nagar</td>\n",
       "      <td>POINT (77.54249 13.07504)</td>\n",
       "    </tr>\n",
       "    <tr>\n",
       "      <th>7044468</th>\n",
       "      <td>129</td>\n",
       "      <td>112</td>\n",
       "      <td>14</td>\n",
       "      <td>950.56</td>\n",
       "      <td>522.18</td>\n",
       "      <td>0 Chowdappa Road, Cobaley Colony, Azad Nagar, ...</td>\n",
       "      <td>0 17th A Cross Road, Agrahara Dasarahalli, Raj...</td>\n",
       "      <td>Rayapuram</td>\n",
       "      <td>POINT (77.55823 12.96265)</td>\n",
       "      <td>Agrahara Dasarahalli</td>\n",
       "      <td>POINT (77.54154 12.98050)</td>\n",
       "    </tr>\n",
       "  </tbody>\n",
       "</table>\n",
       "</div>"
      ],
      "text/plain": [
       "         sourceid  dstid  hod  mean_travel_time  \\\n",
       "7161523        85    114    4           1464.73   \n",
       "761758         62     12   18           2387.54   \n",
       "7044468       129    112   14            950.56   \n",
       "\n",
       "         standard_deviation_travel_time  \\\n",
       "7161523                          236.73   \n",
       "761758                           529.95   \n",
       "7044468                          522.18   \n",
       "\n",
       "                                               Source Name  \\\n",
       "7161523                 Kensington Road, Ulsoor, Bengaluru   \n",
       "761758   null4th Cross Road, Modi Garden, Kaval Bairasa...   \n",
       "7044468  0 Chowdappa Road, Cobaley Colony, Azad Nagar, ...   \n",
       "\n",
       "                                          Destination Name  \\\n",
       "7161523  0 16th Main Road, CHBS Layout, Stage 2, Vijaya...   \n",
       "761758                5th Main Singapura Layout, Bengaluru   \n",
       "7044468  0 17th A Cross Road, Agrahara Dasarahalli, Raj...   \n",
       "\n",
       "            Source Ward Name            Source Geometry Destination Ward Name  \\\n",
       "7161523              Halsoor  POINT (77.61982 12.97970)           Marenahalli   \n",
       "761758   Devara Jeevanahalli  POINT (77.60056 13.01131)         Kuvempu Nagar   \n",
       "7044468            Rayapuram  POINT (77.55823 12.96265)  Agrahara Dasarahalli   \n",
       "\n",
       "              Destination Geometry  \n",
       "7161523  POINT (77.52851 12.97048)  \n",
       "761758   POINT (77.54249 13.07504)  \n",
       "7044468  POINT (77.54154 12.98050)  "
      ]
     },
     "execution_count": 17,
     "metadata": {},
     "output_type": "execute_result"
    }
   ],
   "source": [
    "time_df2 = pd.merge(time_df, full_bglr, left_on=['Source Name'], right_on=['DISPLAY_NAME'], how='inner')\n",
    "time_df2 = time_df2.drop(columns=['DISPLAY_NAME'])\n",
    "time_df2 = time_df2.rename(columns = {'WARD_NAME': 'Source Ward Name', 'geometry': 'Source Geometry'})\n",
    "time_df2 = pd.merge(time_df2, full_bglr, left_on=['Destination Name'], right_on=['DISPLAY_NAME'], how='inner')\n",
    "time_df2 = time_df2.drop(columns=['DISPLAY_NAME'])\n",
    "time_df2 = time_df2.rename(columns = {'WARD_NAME': 'Destination Ward Name', 'geometry': 'Destination Geometry'})\n",
    "time_df2.sample(3)"
   ]
  },
  {
   "cell_type": "code",
   "execution_count": 18,
   "metadata": {
    "execution": {
     "iopub.execute_input": "2020-10-22T20:24:33.362391Z",
     "iopub.status.busy": "2020-10-22T20:24:33.361184Z",
     "iopub.status.idle": "2020-10-22T20:24:33.365399Z",
     "shell.execute_reply": "2020-10-22T20:24:33.365981Z"
    },
    "papermill": {
     "duration": 0.066383,
     "end_time": "2020-10-22T20:24:33.366160",
     "exception": false,
     "start_time": "2020-10-22T20:24:33.299777",
     "status": "completed"
    },
    "tags": []
   },
   "outputs": [
    {
     "data": {
      "text/plain": [
       "(13227072, 11)"
      ]
     },
     "execution_count": 18,
     "metadata": {},
     "output_type": "execute_result"
    }
   ],
   "source": [
    "time_df2.shape"
   ]
  },
  {
   "cell_type": "code",
   "execution_count": 19,
   "metadata": {
    "execution": {
     "iopub.execute_input": "2020-10-22T20:24:33.489801Z",
     "iopub.status.busy": "2020-10-22T20:24:33.488960Z",
     "iopub.status.idle": "2020-10-22T20:24:33.492281Z",
     "shell.execute_reply": "2020-10-22T20:24:33.491481Z"
    },
    "papermill": {
     "duration": 0.069305,
     "end_time": "2020-10-22T20:24:33.492411",
     "exception": false,
     "start_time": "2020-10-22T20:24:33.423106",
     "status": "completed"
    },
    "tags": []
   },
   "outputs": [],
   "source": [
    "import pickle\n",
    "def save_object(obj, filename):\n",
    "    with open(filename, 'wb') as output:  # Overwrites any existing file.\n",
    "        pickle.dump(obj, output, pickle.HIGHEST_PROTOCOL)\n",
    "\n",
    "import os.path\n",
    "def file_exists(filename):\n",
    "    return os.path.exists(filename)\n",
    "\n",
    "input_path = '../input/uber-travel-time-prediction/'"
   ]
  },
  {
   "cell_type": "markdown",
   "metadata": {
    "papermill": {
     "duration": 0.055939,
     "end_time": "2020-10-22T20:24:33.605860",
     "exception": false,
     "start_time": "2020-10-22T20:24:33.549921",
     "status": "completed"
    },
    "tags": []
   },
   "source": [
    "# Calculating distances to use as a feature"
   ]
  },
  {
   "cell_type": "code",
   "execution_count": 20,
   "metadata": {
    "execution": {
     "iopub.execute_input": "2020-10-22T20:24:33.730341Z",
     "iopub.status.busy": "2020-10-22T20:24:33.729386Z",
     "iopub.status.idle": "2020-10-22T20:24:33.970838Z",
     "shell.execute_reply": "2020-10-22T20:24:33.969973Z"
    },
    "papermill": {
     "duration": 0.307106,
     "end_time": "2020-10-22T20:24:33.971203",
     "exception": false,
     "start_time": "2020-10-22T20:24:33.664097",
     "status": "completed"
    },
    "tags": []
   },
   "outputs": [],
   "source": [
    "import geopy.distance\n",
    "\n",
    "def calc_distance(x):\n",
    "    src_point = (x['Source Geometry'].y, x['Source Geometry'].x)\n",
    "    dest_point = (x['Destination Geometry'].y, x['Destination Geometry'].x)\n",
    "    return geopy.distance.geodesic(src_point, dest_point).kilometers\n",
    "\n",
    "filename = 'Df_for_modelling.bin'\n",
    "path = input_path + filename\n",
    "if file_exists(path):\n",
    "    # skip to next section since the results here are already precalculated\n",
    "    pass\n",
    "else:\n",
    "    print('Creating distance file')\n",
    "    time_df2['Geodesic Distance'] = time_df2.apply(func = calc_distance, axis=1)\n",
    "    df = time_df2\n"
   ]
  },
  {
   "cell_type": "code",
   "execution_count": 21,
   "metadata": {
    "execution": {
     "iopub.execute_input": "2020-10-22T20:24:34.099442Z",
     "iopub.status.busy": "2020-10-22T20:24:34.098307Z",
     "iopub.status.idle": "2020-10-22T20:24:40.212369Z",
     "shell.execute_reply": "2020-10-22T20:24:40.211297Z"
    },
    "papermill": {
     "duration": 6.182878,
     "end_time": "2020-10-22T20:24:40.212572",
     "exception": false,
     "start_time": "2020-10-22T20:24:34.029694",
     "status": "completed"
    },
    "tags": []
   },
   "outputs": [],
   "source": [
    "filename = 'Df_for_modelling.bin'\n",
    "path = input_path + filename\n",
    "if file_exists(path):\n",
    "    with open(path, 'rb') as file:\n",
    "        final_df = pickle.load(file)\n",
    "else:\n",
    "    print('Creating final df file')\n",
    "    final_df = df.copy()\n",
    "    final_df['Source lat'] = final_df['Source Geometry'].apply(lambda pt: float(pt.y))\n",
    "    final_df['Source long'] = final_df['Source Geometry'].apply(lambda pt: float(pt.x))\n",
    "    final_df['Dest lat'] = final_df['Destination Geometry'].apply(lambda pt: float(pt.y))\n",
    "    final_df['Dest long'] = final_df['Destination Geometry'].apply(lambda pt: float(pt.x))\n",
    "\n",
    "    \n",
    "features = ['Source lat', 'Source long', 'Dest lat', 'Dest long', 'hod', 'Geodesic Distance']\n",
    "outcome = ['mean_travel_time']\n",
    "final_df = final_df[features + outcome]\n",
    "\n",
    "try:\n",
    "    save_object(final_df, filename)\n",
    "except:\n",
    "    pass"
   ]
  },
  {
   "cell_type": "markdown",
   "metadata": {
    "papermill": {
     "duration": 0.147219,
     "end_time": "2020-10-22T20:24:40.462222",
     "exception": false,
     "start_time": "2020-10-22T20:24:40.315003",
     "status": "completed"
    },
    "tags": []
   },
   "source": [
    "# Modelling"
   ]
  },
  {
   "cell_type": "markdown",
   "metadata": {
    "papermill": {
     "duration": 0.071997,
     "end_time": "2020-10-22T20:24:40.700996",
     "exception": false,
     "start_time": "2020-10-22T20:24:40.628999",
     "status": "completed"
    },
    "tags": []
   },
   "source": [
    "Model without eval set\n"
   ]
  },
  {
   "cell_type": "code",
   "execution_count": 22,
   "metadata": {
    "execution": {
     "iopub.execute_input": "2020-10-22T20:24:41.393219Z",
     "iopub.status.busy": "2020-10-22T20:24:41.392379Z",
     "iopub.status.idle": "2020-10-22T20:24:46.549943Z",
     "shell.execute_reply": "2020-10-22T20:24:46.549213Z"
    },
    "papermill": {
     "duration": 5.788988,
     "end_time": "2020-10-22T20:24:46.550084",
     "exception": false,
     "start_time": "2020-10-22T20:24:40.761096",
     "status": "completed"
    },
    "tags": []
   },
   "outputs": [],
   "source": [
    "\n",
    "X = final_df[features]\n",
    "y = final_df[outcome]\n",
    "\n",
    "from sklearn.model_selection import train_test_split\n",
    "X_train, X_test, y_train, y_test = train_test_split(X, y, test_size=0.3, random_state=5)\n"
   ]
  },
  {
   "cell_type": "code",
   "execution_count": 23,
   "metadata": {
    "execution": {
     "iopub.execute_input": "2020-10-22T20:24:46.938594Z",
     "iopub.status.busy": "2020-10-22T20:24:46.937588Z",
     "iopub.status.idle": "2020-10-22T20:24:50.643447Z",
     "shell.execute_reply": "2020-10-22T20:24:50.642750Z"
    },
    "papermill": {
     "duration": 3.917984,
     "end_time": "2020-10-22T20:24:50.643625",
     "exception": false,
     "start_time": "2020-10-22T20:24:46.725641",
     "status": "completed"
    },
    "tags": []
   },
   "outputs": [],
   "source": [
    "\n",
    "import xgboost as xgb\n",
    "\n",
    "filename = 'XGB_model_4.bin'\n",
    "path = input_path + filename\n",
    "if file_exists(path):\n",
    "    with open(path, 'rb') as file:\n",
    "        my_model = pickle.load(file)\n",
    "else:\n",
    "    my_model = xgb.XGBRegressor(n_estimators=400, learning_rate=0.05, n_jobs=4)\n",
    "    my_model.fit(X_train, y_train,verbose=False)\n",
    "    \n",
    "try:    \n",
    "    save_object(X_train, 'train_set_x.bin')\n",
    "    save_object(y_train, 'train_set_y.bin')\n",
    "    save_object(X_test, 'test_set_x.bin')\n",
    "    save_object(y_test, 'test_set_y.bin')\n",
    "    save_object(my_model, filename)\n",
    "except:\n",
    "    pass"
   ]
  },
  {
   "cell_type": "code",
   "execution_count": 24,
   "metadata": {
    "execution": {
     "iopub.execute_input": "2020-10-22T20:24:52.871856Z",
     "iopub.status.busy": "2020-10-22T20:24:52.870770Z",
     "iopub.status.idle": "2020-10-22T20:24:53.582684Z",
     "shell.execute_reply": "2020-10-22T20:24:53.581500Z"
    },
    "papermill": {
     "duration": 2.873815,
     "end_time": "2020-10-22T20:24:53.582879",
     "exception": false,
     "start_time": "2020-10-22T20:24:50.709064",
     "status": "completed"
    },
    "tags": []
   },
   "outputs": [
    {
     "data": {
      "text/plain": [
       "<matplotlib.axes._subplots.AxesSubplot at 0x7f41428287d0>"
      ]
     },
     "execution_count": 24,
     "metadata": {},
     "output_type": "execute_result"
    },
    {
     "data": {
      "image/png": "[encoded data removed]",
      "text/plain": [
       "<Figure size 432x288 with 1 Axes>"
      ]
     },
     "metadata": {
      "needs_background": "light"
     },
     "output_type": "display_data"
    }
   ],
   "source": [
    "xgb.plot_importance(my_model)"
   ]
  },
  {
   "cell_type": "markdown",
   "metadata": {
    "papermill": {
     "duration": 0.061501,
     "end_time": "2020-10-22T20:24:53.708327",
     "exception": false,
     "start_time": "2020-10-22T20:24:53.646826",
     "status": "completed"
    },
    "tags": []
   },
   "source": [
    "Note: the travel time is in seconds, so as we see below, the error is pretty low."
   ]
  },
  {
   "cell_type": "code",
   "execution_count": 25,
   "metadata": {
    "execution": {
     "iopub.execute_input": "2020-10-22T20:24:53.837780Z",
     "iopub.status.busy": "2020-10-22T20:24:53.836760Z",
     "iopub.status.idle": "2020-10-22T20:25:30.536286Z",
     "shell.execute_reply": "2020-10-22T20:25:30.537162Z"
    },
    "papermill": {
     "duration": 36.768546,
     "end_time": "2020-10-22T20:25:30.537398",
     "exception": false,
     "start_time": "2020-10-22T20:24:53.768852",
     "status": "completed"
    },
    "tags": []
   },
   "outputs": [
    {
     "name": "stdout",
     "output_type": "stream",
     "text": [
      "R2: 0.9469694313445145\n",
      "\n",
      "MSE: 62517.27446947882\n",
      "\n",
      "RMSE: 250.03454655202913\n",
      "\n",
      "MAE: 189.64726565111118\n",
      "\n"
     ]
    }
   ],
   "source": [
    "predictions = my_model.predict(X_test)\n",
    "\n",
    "from sklearn import metrics\n",
    "\n",
    "r2 = metrics.r2_score(y_test, predictions)\n",
    "print('R2: {}\\n'.format(r2))\n",
    "\n",
    "mse = metrics.mean_squared_error(y_test, predictions)\n",
    "print('MSE: {}\\n'.format(mse))\n",
    "\n",
    "print('RMSE: {}\\n'.format(np.sqrt(mse)))\n",
    "\n",
    "mae = metrics.mean_absolute_error(y_test, predictions)\n",
    "print('MAE: {}\\n'.format(mae))\n"
   ]
  },
  {
   "cell_type": "code",
   "execution_count": 26,
   "metadata": {
    "execution": {
     "iopub.execute_input": "2020-10-22T20:25:30.698980Z",
     "iopub.status.busy": "2020-10-22T20:25:30.697517Z",
     "iopub.status.idle": "2020-10-22T20:25:58.831992Z",
     "shell.execute_reply": "2020-10-22T20:25:58.832562Z"
    },
    "papermill": {
     "duration": 28.225406,
     "end_time": "2020-10-22T20:25:58.832732",
     "exception": false,
     "start_time": "2020-10-22T20:25:30.607326",
     "status": "completed"
    },
    "tags": []
   },
   "outputs": [
    {
     "name": "stderr",
     "output_type": "stream",
     "text": [
      "/opt/conda/lib/python3.7/site-packages/IPython/core/pylabtools.py:132: UserWarning: Creating legend with loc=\"best\" can be slow with large amounts of data.\n",
      "  fig.canvas.print_figure(bytes_io, **kw)\n"
     ]
    },
    {
     "data": {
      "image/png": "[encoded data removed]",
      "text/plain": [
       "<Figure size 432x288 with 1 Axes>"
      ]
     },
     "metadata": {
      "needs_background": "light"
     },
     "output_type": "display_data"
    }
   ],
   "source": [
    "x_ax = range(len(y_test))\n",
    "plot.plot(x_ax, y_test, label=\"original\")\n",
    "plot.plot(x_ax, predictions, label=\"predicted\")\n",
    "\n",
    "plot.title(\"Mean travel times actual and predicted data\")\n",
    "\n",
    "plot.legend()\n",
    "plot.show()"
   ]
  },
  {
   "cell_type": "code",
   "execution_count": 27,
   "metadata": {
    "execution": {
     "iopub.execute_input": "2020-10-22T20:25:58.969639Z",
     "iopub.status.busy": "2020-10-22T20:25:58.963813Z",
     "iopub.status.idle": "2020-10-22T20:26:06.642494Z",
     "shell.execute_reply": "2020-10-22T20:26:06.641820Z"
    },
    "papermill": {
     "duration": 7.747899,
     "end_time": "2020-10-22T20:26:06.642637",
     "exception": false,
     "start_time": "2020-10-22T20:25:58.894738",
     "status": "completed"
    },
    "tags": []
   },
   "outputs": [
    {
     "data": {
      "image/png": "[encoded data removed]",
      "text/plain": [
       "<Figure size 432x288 with 1 Axes>"
      ]
     },
     "metadata": {
      "needs_background": "light"
     },
     "output_type": "display_data"
    }
   ],
   "source": [
    "fig, ax = plot.subplots()\n",
    "ax.scatter(y_test, predictions)\n",
    "ax.plot([y_test.min(), y_test.max()], [y_test.min(), y_test.max()], 'k--', lw=4)\n",
    "ax.set_xlabel('Measured Time')\n",
    "ax.set_ylabel('Predicted Time')\n",
    "plot.show()"
   ]
  },
  {
   "cell_type": "code",
   "execution_count": 28,
   "metadata": {
    "execution": {
     "iopub.execute_input": "2020-10-22T20:26:06.778738Z",
     "iopub.status.busy": "2020-10-22T20:26:06.777151Z",
     "iopub.status.idle": "2020-10-22T20:27:28.517400Z",
     "shell.execute_reply": "2020-10-22T20:27:28.518259Z"
    },
    "papermill": {
     "duration": 81.812542,
     "end_time": "2020-10-22T20:27:28.518482",
     "exception": false,
     "start_time": "2020-10-22T20:26:06.705940",
     "status": "completed"
    },
    "tags": []
   },
   "outputs": [
    {
     "name": "stdout",
     "output_type": "stream",
     "text": [
      "Training score:  0.9471032038903033\n"
     ]
    }
   ],
   "source": [
    "from sklearn.model_selection import cross_val_score, KFold\n",
    "\n",
    "score = my_model.score(X_train, y_train)  \n",
    "print(\"Training score: \", score)\n",
    "\n",
    "# These take more than 9 hours to complete so skipped\n",
    "\n",
    "# scores = cross_val_score(my_model, X_train, y_train, cv=10)\n",
    "# print(\"Mean cross-validation score: %.2f\" % scores.mean())\n",
    "\n",
    "# kfold = KFold(n_splits=10, shuffle=True)\n",
    "# kf_cv_scores = cross_val_score(my_model, X_train, y_train, cv=kfold )\n",
    "# print(\"K-fold CV average score: %.2f\" % kf_cv_scores.mean())"
   ]
  },
  {
   "cell_type": "markdown",
   "metadata": {
    "papermill": {
     "duration": 0.062417,
     "end_time": "2020-10-22T20:27:28.644930",
     "exception": false,
     "start_time": "2020-10-22T20:27:28.582513",
     "status": "completed"
    },
    "tags": []
   },
   "source": [
    "# Testing with some random points"
   ]
  },
  {
   "cell_type": "code",
   "execution_count": 29,
   "metadata": {
    "execution": {
     "iopub.execute_input": "2020-10-22T20:27:28.782953Z",
     "iopub.status.busy": "2020-10-22T20:27:28.780426Z",
     "iopub.status.idle": "2020-10-22T20:27:28.785691Z",
     "shell.execute_reply": "2020-10-22T20:27:28.786300Z"
    },
    "papermill": {
     "duration": 0.078184,
     "end_time": "2020-10-22T20:27:28.786459",
     "exception": false,
     "start_time": "2020-10-22T20:27:28.708275",
     "status": "completed"
    },
    "tags": []
   },
   "outputs": [],
   "source": [
    "features = ['Source lat', 'Source long', 'Dest lat', 'Dest long', 'hod', 'Geodesic Distance']\n",
    "outcome = ['mean_travel_time']\n",
    "\n",
    "def get_distance(lat1, long1, lat2, long2):\n",
    "    src_point = (lat1, long1)\n",
    "    dest_point = (lat2, long2)\n",
    "    return geopy.distance.geodesic(src_point, dest_point).kilometers\n",
    "\n",
    "def prepare_df(lat1, long1, lat2, long2, hod):\n",
    "    distance = get_distance(lat1, long1, lat2, long2)\n",
    "    return pd.DataFrame(columns = ['Source lat', 'Source long', 'Dest lat', 'Dest long', 'hod', 'Geodesic Distance'],\n",
    "                 data = [[lat1, long1, lat2, long2, hod, distance]])\n",
    "    \n",
    "def predict(df):\n",
    "    return my_model.predict(df[features])"
   ]
  },
  {
   "cell_type": "code",
   "execution_count": 30,
   "metadata": {
    "execution": {
     "iopub.execute_input": "2020-10-22T20:27:28.921913Z",
     "iopub.status.busy": "2020-10-22T20:27:28.920854Z",
     "iopub.status.idle": "2020-10-22T20:27:28.924376Z",
     "shell.execute_reply": "2020-10-22T20:27:28.923652Z"
    },
    "papermill": {
     "duration": 0.072052,
     "end_time": "2020-10-22T20:27:28.924501",
     "exception": false,
     "start_time": "2020-10-22T20:27:28.852449",
     "status": "completed"
    },
    "tags": []
   },
   "outputs": [],
   "source": [
    "def compare(actual, predicted):\n",
    "#     actual = [act[0] for act in actual[outcome].values.tolist()]\n",
    "#     predicted = predicted.tolist()\n",
    "    return pd.DataFrame(data = {'actual': actual, 'prediction': predicted})\n"
   ]
  },
  {
   "cell_type": "code",
   "execution_count": 31,
   "metadata": {
    "execution": {
     "iopub.execute_input": "2020-10-22T20:27:29.057702Z",
     "iopub.status.busy": "2020-10-22T20:27:29.056638Z",
     "iopub.status.idle": "2020-10-22T20:27:29.059684Z",
     "shell.execute_reply": "2020-10-22T20:27:29.060275Z"
    },
    "papermill": {
     "duration": 0.071724,
     "end_time": "2020-10-22T20:27:29.060445",
     "exception": false,
     "start_time": "2020-10-22T20:27:28.988721",
     "status": "completed"
    },
    "tags": []
   },
   "outputs": [],
   "source": [
    "# entire bangalore geojson from https://github.com/datameet/PincodeBoundary/tree/master/Bangalore\n",
    "\n",
    "# bangalore_polygon = gpd.read_file('../input/external-geodata/bangalore boundary.geojson')\n",
    "# bangalore_polygon.plot()"
   ]
  },
  {
   "cell_type": "code",
   "execution_count": 32,
   "metadata": {
    "execution": {
     "iopub.execute_input": "2020-10-22T20:27:29.197089Z",
     "iopub.status.busy": "2020-10-22T20:27:29.195988Z",
     "iopub.status.idle": "2020-10-22T20:27:29.199426Z",
     "shell.execute_reply": "2020-10-22T20:27:29.198711Z"
    },
    "papermill": {
     "duration": 0.075279,
     "end_time": "2020-10-22T20:27:29.199572",
     "exception": false,
     "start_time": "2020-10-22T20:27:29.124293",
     "status": "completed"
    },
    "tags": []
   },
   "outputs": [],
   "source": [
    "def get_random_points_in_bangalore(number):\n",
    "    points = []\n",
    "    min_x, min_y, max_x, max_y = 12.85, 77.45, 13.0, 77.75  \n",
    "    i= 0\n",
    "    while i < number:\n",
    "        point = (random.uniform(min_x, max_x), random.uniform(min_y, max_y))\n",
    "        i += 1\n",
    "        points.append(point)\n",
    "    return points\n",
    "\n",
    "# ORS_API_KEY = '5b3ce3597851110001cf6248f4d0d79bab0a4f5a8b95a4403ba8b839'\n",
    "\n",
    "# def get_ORS_data(source, dest):\n",
    "#     parameters = {\n",
    "#         'locations' : [['{},{}'.format(source[1], source[0])],['{},{}'.format(dest[1], dest[0])]]\n",
    "#     }\n",
    "#     headers = {'Authorization ': ORS_API_KEY}\n",
    "#     response = requests.post(\n",
    "#         'https://api.openrouteservice.org/v2/matrix/driving-car', data=parameters, headers=headers)\n",
    "\n",
    "#     if response.status_code == 200:\n",
    "#         print('Request successful.')\n",
    "#         data = response.json()\n",
    "#         summary = data['features'][0]['properties']['summary']\n",
    "#         print(summary)\n",
    "# #         distance = summary['distance']/1000\n",
    "#         return duration\n",
    "#     else:\n",
    "#         print('Request failed.')\n",
    "#         print(response.text)"
   ]
  },
  {
   "cell_type": "code",
   "execution_count": 33,
   "metadata": {
    "execution": {
     "iopub.execute_input": "2020-10-22T20:27:29.333645Z",
     "iopub.status.busy": "2020-10-22T20:27:29.332600Z",
     "iopub.status.idle": "2020-10-22T20:27:29.335407Z",
     "shell.execute_reply": "2020-10-22T20:27:29.336043Z"
    },
    "papermill": {
     "duration": 0.073036,
     "end_time": "2020-10-22T20:27:29.336217",
     "exception": false,
     "start_time": "2020-10-22T20:27:29.263181",
     "status": "completed"
    },
    "tags": []
   },
   "outputs": [],
   "source": [
    "# get_ORS_data((12.928781971722811, 77.6121303701099), (12.854079170010449, 77.55145104575789))"
   ]
  },
  {
   "cell_type": "code",
   "execution_count": 34,
   "metadata": {
    "execution": {
     "iopub.execute_input": "2020-10-22T20:27:29.470344Z",
     "iopub.status.busy": "2020-10-22T20:27:29.469623Z",
     "iopub.status.idle": "2020-10-22T20:27:29.473080Z",
     "shell.execute_reply": "2020-10-22T20:27:29.472400Z"
    },
    "papermill": {
     "duration": 0.07285,
     "end_time": "2020-10-22T20:27:29.473214",
     "exception": false,
     "start_time": "2020-10-22T20:27:29.400364",
     "status": "completed"
    },
    "tags": []
   },
   "outputs": [],
   "source": [
    "# points1 = get_random_points_in_bangalore(10)\n",
    "# points2 = get_random_points_in_bangalore(10)\n",
    "\n",
    "# travel_times_ORS = []\n",
    "# for point1, point2 in zip(points1, points2):\n",
    "#     travel_times_ORS.append(get_ORS_data(point1, point2))\n",
    "    \n",
    "# travel_times_model = []\n",
    "# for point1, point2 in zip(points1, points2):\n",
    "#     lat1, long1, lat2, long2 = point1[0], point1[1], point2[0], point2[1]\n",
    "#     hod = random.uniform(0, 23)\n",
    "#     p = predict(prepare_df(lat1, long1, lat2, long2, hod))\n",
    "#     p = p.tolist()[0]\n",
    "#     travel_times_model.append(p)\n",
    "    \n",
    "# print({points: time for points, time in zip(zip(points1, points2), travel_times_model)})\n",
    "# compare(travel_times_ORS, travel_times_model)"
   ]
  },
  {
   "cell_type": "code",
   "execution_count": 35,
   "metadata": {
    "execution": {
     "iopub.execute_input": "2020-10-22T20:27:29.615887Z",
     "iopub.status.busy": "2020-10-22T20:27:29.615072Z",
     "iopub.status.idle": "2020-10-22T20:27:29.618329Z",
     "shell.execute_reply": "2020-10-22T20:27:29.617687Z"
    },
    "papermill": {
     "duration": 0.080494,
     "end_time": "2020-10-22T20:27:29.618469",
     "exception": false,
     "start_time": "2020-10-22T20:27:29.537975",
     "status": "completed"
    },
    "tags": []
   },
   "outputs": [],
   "source": [
    "points = [((12.999289603200602, 77.72750046509455),\n",
    "  (12.900586869608652, 77.57751972070913)),\n",
    " ((12.935917259525278, 77.61353555551875),\n",
    "  (12.856440148061886, 77.48546536718554)),\n",
    " ((12.897459477917653, 77.7095308106631),\n",
    "  (12.996842230621631, 77.64938231715406)),\n",
    " ((12.936661694778596, 77.71873838420447),\n",
    "  (12.907286088453898, 77.4772158363428)),\n",
    " ((12.88453533783865, 77.70914845848147),\n",
    "  (12.893719016027402, 77.71748845762684)),\n",
    " ((12.90661849980788, 77.6359030720415),\n",
    "  (12.986913454190185, 77.6667791482254)),\n",
    " ((12.89600641097292, 77.70444731327966),\n",
    "  (12.98987526206819, 77.60524558740501)),\n",
    " ((12.897523292566822, 77.56067149766076),\n",
    "  (12.894608188894253, 77.66337661025209)),\n",
    " ((12.86194623889842, 77.56338966329798),\n",
    "  (12.944443289052925, 77.4887976744094)),\n",
    " ((12.858621405573748, 77.46556646993612),\n",
    "  (12.90990445061544, 77.58937083560666))]\n",
    "\n",
    "hours_of_day = [18, 7, 18, 2, 16, 23, 10, 8, 4, 16]"
   ]
  },
  {
   "cell_type": "code",
   "execution_count": 36,
   "metadata": {
    "execution": {
     "iopub.execute_input": "2020-10-22T20:27:29.754753Z",
     "iopub.status.busy": "2020-10-22T20:27:29.753991Z",
     "iopub.status.idle": "2020-10-22T20:27:29.756560Z",
     "shell.execute_reply": "2020-10-22T20:27:29.757153Z"
    },
    "papermill": {
     "duration": 0.073871,
     "end_time": "2020-10-22T20:27:29.757308",
     "exception": false,
     "start_time": "2020-10-22T20:27:29.683437",
     "status": "completed"
    },
    "tags": []
   },
   "outputs": [],
   "source": [
    "# taking average of thetime bounds given by manual google maps travel times for same coordinates and departure time\n",
    "travel_times_gmaps_in_mins = [75, 55, 43, 63, 7, 45, 60, 50, 40, 50]\n",
    "travel_times_gmaps = [t*60 for t in travel_times_gmaps_in_mins]"
   ]
  },
  {
   "cell_type": "code",
   "execution_count": 37,
   "metadata": {
    "execution": {
     "iopub.execute_input": "2020-10-22T20:27:29.908348Z",
     "iopub.status.busy": "2020-10-22T20:27:29.897684Z",
     "iopub.status.idle": "2020-10-22T20:27:29.952198Z",
     "shell.execute_reply": "2020-10-22T20:27:29.953048Z"
    },
    "papermill": {
     "duration": 0.131281,
     "end_time": "2020-10-22T20:27:29.953257",
     "exception": false,
     "start_time": "2020-10-22T20:27:29.821976",
     "status": "completed"
    },
    "tags": []
   },
   "outputs": [
    {
     "data": {
      "text/plain": [
       "[92.82392578125,\n",
       " 43.9669189453125,\n",
       " 56.32823893229167,\n",
       " 37.40746256510417,\n",
       " 5.666252136230469,\n",
       " 26.561669921875,\n",
       " 60.73309326171875,\n",
       " 47.56180419921875,\n",
       " 19.623476155598958,\n",
       " 46.99569091796875]"
      ]
     },
     "execution_count": 37,
     "metadata": {},
     "output_type": "execute_result"
    }
   ],
   "source": [
    "travel_times_model = []\n",
    "points1 = [p[0] for p in points]\n",
    "points2 = [p[1] for p in points]\n",
    "for point1, point2, hod in zip(points1, points2, hours_of_day):\n",
    "    lat1, long1, lat2, long2 = point1[0], point1[1], point2[0], point2[1]\n",
    "    p = predict(prepare_df(lat1, long1, lat2, long2, hod))\n",
    "    p = p.tolist()[0]\n",
    "    travel_times_model.append(p)\n",
    "[t/60 for t in travel_times_model]"
   ]
  },
  {
   "cell_type": "code",
   "execution_count": 38,
   "metadata": {
    "execution": {
     "iopub.execute_input": "2020-10-22T20:27:30.124584Z",
     "iopub.status.busy": "2020-10-22T20:27:30.123697Z",
     "iopub.status.idle": "2020-10-22T20:27:30.132127Z",
     "shell.execute_reply": "2020-10-22T20:27:30.132795Z"
    },
    "papermill": {
     "duration": 0.10009,
     "end_time": "2020-10-22T20:27:30.132994",
     "exception": false,
     "start_time": "2020-10-22T20:27:30.032904",
     "status": "completed"
    },
    "tags": []
   },
   "outputs": [
    {
     "data": {
      "text/html": [
       "<div>\n",
       "<style scoped>\n",
       "    .dataframe tbody tr th:only-of-type {\n",
       "        vertical-align: middle;\n",
       "    }\n",
       "\n",
       "    .dataframe tbody tr th {\n",
       "        vertical-align: top;\n",
       "    }\n",
       "\n",
       "    .dataframe thead th {\n",
       "        text-align: right;\n",
       "    }\n",
       "</style>\n",
       "<table border=\"1\" class=\"dataframe\">\n",
       "  <thead>\n",
       "    <tr style=\"text-align: right;\">\n",
       "      <th></th>\n",
       "      <th>actual</th>\n",
       "      <th>prediction</th>\n",
       "    </tr>\n",
       "  </thead>\n",
       "  <tbody>\n",
       "    <tr>\n",
       "      <th>0</th>\n",
       "      <td>4500</td>\n",
       "      <td>5569.435547</td>\n",
       "    </tr>\n",
       "    <tr>\n",
       "      <th>1</th>\n",
       "      <td>3300</td>\n",
       "      <td>2638.015137</td>\n",
       "    </tr>\n",
       "    <tr>\n",
       "      <th>2</th>\n",
       "      <td>2580</td>\n",
       "      <td>3379.694336</td>\n",
       "    </tr>\n",
       "    <tr>\n",
       "      <th>3</th>\n",
       "      <td>3780</td>\n",
       "      <td>2244.447754</td>\n",
       "    </tr>\n",
       "    <tr>\n",
       "      <th>4</th>\n",
       "      <td>420</td>\n",
       "      <td>339.975128</td>\n",
       "    </tr>\n",
       "    <tr>\n",
       "      <th>5</th>\n",
       "      <td>2700</td>\n",
       "      <td>1593.700195</td>\n",
       "    </tr>\n",
       "    <tr>\n",
       "      <th>6</th>\n",
       "      <td>3600</td>\n",
       "      <td>3643.985596</td>\n",
       "    </tr>\n",
       "    <tr>\n",
       "      <th>7</th>\n",
       "      <td>3000</td>\n",
       "      <td>2853.708252</td>\n",
       "    </tr>\n",
       "    <tr>\n",
       "      <th>8</th>\n",
       "      <td>2400</td>\n",
       "      <td>1177.408569</td>\n",
       "    </tr>\n",
       "    <tr>\n",
       "      <th>9</th>\n",
       "      <td>3000</td>\n",
       "      <td>2819.741455</td>\n",
       "    </tr>\n",
       "  </tbody>\n",
       "</table>\n",
       "</div>"
      ],
      "text/plain": [
       "   actual   prediction\n",
       "0    4500  5569.435547\n",
       "1    3300  2638.015137\n",
       "2    2580  3379.694336\n",
       "3    3780  2244.447754\n",
       "4     420   339.975128\n",
       "5    2700  1593.700195\n",
       "6    3600  3643.985596\n",
       "7    3000  2853.708252\n",
       "8    2400  1177.408569\n",
       "9    3000  2819.741455"
      ]
     },
     "execution_count": 38,
     "metadata": {},
     "output_type": "execute_result"
    }
   ],
   "source": [
    "compare(travel_times_gmaps, travel_times_model)"
   ]
  },
  {
   "cell_type": "code",
   "execution_count": 39,
   "metadata": {
    "execution": {
     "iopub.execute_input": "2020-10-22T20:27:30.287962Z",
     "iopub.status.busy": "2020-10-22T20:27:30.282163Z",
     "iopub.status.idle": "2020-10-22T20:27:30.449084Z",
     "shell.execute_reply": "2020-10-22T20:27:30.448251Z"
    },
    "papermill": {
     "duration": 0.247417,
     "end_time": "2020-10-22T20:27:30.449217",
     "exception": false,
     "start_time": "2020-10-22T20:27:30.201800",
     "status": "completed"
    },
    "tags": []
   },
   "outputs": [
    {
     "data": {
      "image/png": "[encoded data removed]",
      "text/plain": [
       "<Figure size 432x288 with 1 Axes>"
      ]
     },
     "metadata": {
      "needs_background": "light"
     },
     "output_type": "display_data"
    }
   ],
   "source": [
    "x_ax = range(len(travel_times_model))\n",
    "plot.plot(x_ax, travel_times_gmaps, label=\"original\")\n",
    "plot.plot(x_ax, travel_times_model, label=\"predicted\")\n",
    "\n",
    "plot.title(\"Mean travel times actual and predicted data\")\n",
    "\n",
    "plot.legend()\n",
    "plot.show()"
   ]
  },
  {
   "cell_type": "markdown",
   "metadata": {
    "papermill": {
     "duration": 0.067194,
     "end_time": "2020-10-22T20:27:30.583702",
     "exception": false,
     "start_time": "2020-10-22T20:27:30.516508",
     "status": "completed"
    },
    "tags": []
   },
   "source": [
    "# Live testing"
   ]
  },
  {
   "cell_type": "code",
   "execution_count": 40,
   "metadata": {
    "execution": {
     "iopub.execute_input": "2020-10-22T20:27:30.732672Z",
     "iopub.status.busy": "2020-10-22T20:27:30.731746Z",
     "iopub.status.idle": "2020-10-22T20:27:30.735145Z",
     "shell.execute_reply": "2020-10-22T20:27:30.735977Z"
    },
    "papermill": {
     "duration": 0.084801,
     "end_time": "2020-10-22T20:27:30.736162",
     "exception": false,
     "start_time": "2020-10-22T20:27:30.651361",
     "status": "completed"
    },
    "tags": []
   },
   "outputs": [
    {
     "data": {
      "text/plain": [
       "array([1395.1552], dtype=float32)"
      ]
     },
     "execution_count": 40,
     "metadata": {},
     "output_type": "execute_result"
    }
   ],
   "source": [
    "lat1 = 13.002385\n",
    "long1 = 77.568491\n",
    "lat2 = 13.061071\n",
    "long2 = 77.597371\n",
    "hod = 10\n",
    "\n",
    "df = prepare_df(lat1, long1, lat2, long2, hod)\n",
    "predict(df)"
   ]
  },
  {
   "cell_type": "code",
   "execution_count": null,
   "metadata": {
    "papermill": {
     "duration": 0.084056,
     "end_time": "2020-10-22T20:27:30.906625",
     "exception": false,
     "start_time": "2020-10-22T20:27:30.822569",
     "status": "completed"
    },
    "tags": []
   },
   "outputs": [],
   "source": []
  }
 ],
 "metadata": {
  "kernelspec": {
   "display_name": "Python 3",
   "language": "python",
   "name": "python3"
  },
  "language_info": {
   "codemirror_mode": {
    "name": "ipython",
    "version": 3
   },
   "file_extension": ".py",
   "mimetype": "text/x-python",
   "name": "python",
   "nbconvert_exporter": "python",
   "pygments_lexer": "ipython3",
   "version": "3.7.6"
  },
  "papermill": {
   "duration": 206.59994,
   "end_time": "2020-10-22T20:27:31.137732",
   "environment_variables": {},
   "exception": null,
   "input_path": "__notebook__.ipynb",
   "output_path": "__notebook__.ipynb",
   "parameters": {},
   "start_time": "2020-10-22T20:24:04.537792",
   "version": "2.1.0"
  }
 },
 "nbformat": 4,
 "nbformat_minor": 4
}
