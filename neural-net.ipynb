{
 "metadata": {
  "language_info": {
   "codemirror_mode": {
    "name": "ipython",
    "version": 3
   },
   "file_extension": ".py",
   "mimetype": "text/x-python",
   "name": "python",
   "nbconvert_exporter": "python",
   "pygments_lexer": "ipython3",
   "version": "3.6.9"
  },
  "orig_nbformat": 2,
  "kernelspec": {
   "name": "python369jvsc74a57bd031f2aee4e71d21fbe5cf8b01ff0e069b9275f58929596ceb00d14d90e3e16cd6",
   "display_name": "Python 3.6.9 64-bit"
  },
  "metadata": {
   "interpreter": {
    "hash": "31f2aee4e71d21fbe5cf8b01ff0e069b9275f58929596ceb00d14d90e3e16cd6"
   }
  }
 },
 "nbformat": 4,
 "nbformat_minor": 2,
 "cells": [
  {
   "cell_type": "code",
   "execution_count": 1,
   "metadata": {},
   "outputs": [],
   "source": [
    "import numpy as np\n",
    "input = np.array([1.54, 1.32])\n",
    "weights = np.array([1.56, -0.45])\n",
    "bias = np.array([0.0])\n"
   ]
  },
  {
   "cell_type": "code",
   "execution_count": 2,
   "metadata": {},
   "outputs": [],
   "source": [
    "def sigmoid(x):\n",
    "    return 1/(1+np.exp(-x))\n",
    "\n",
    "\n",
    "def make_prediction(input, weights, bias):\n",
    "    # simple two layer prediction\n",
    "    layer1 = np.dot(input, weights) + bias\n",
    "    layer2 = sigmoid(layer1)\n",
    "    return layer2\n",
    "    "
   ]
  },
  {
   "cell_type": "code",
   "execution_count": 3,
   "metadata": {},
   "outputs": [
    {
     "output_type": "stream",
     "name": "stdout",
     "text": [
      "The prediction is [0.85916839]\n"
     ]
    }
   ],
   "source": [
    "prediction = make_prediction(input, weights, bias)\n",
    "print(f'The prediction is {prediction}')\n"
   ]
  },
  {
   "cell_type": "code",
   "execution_count": 4,
   "metadata": {},
   "outputs": [
    {
     "output_type": "stream",
     "name": "stdout",
     "text": [
      "The derivative is [1.71833678]\nThe new prediction is [0.04285867]\n"
     ]
    }
   ],
   "source": [
    "# basic gradient descent\n",
    "target = 0\n",
    "MSE = (prediction - target)**2\n",
    "derivative = 2 * (prediction - target)\n",
    "print(f'The derivative is {derivative}')\n",
    "\n",
    "weights = weights - derivative\n",
    "prediction = make_prediction(input, weights, bias)\n",
    "MSE = (prediction - target)**2\n",
    "print(f'The new prediction is {prediction}')\n"
   ]
  },
  {
   "cell_type": "code",
   "execution_count": null,
   "metadata": {},
   "outputs": [],
   "source": []
  }
 ]
}