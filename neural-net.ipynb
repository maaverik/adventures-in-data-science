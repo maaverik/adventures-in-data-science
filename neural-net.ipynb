{
 "metadata": {
  "language_info": {
   "codemirror_mode": {
    "name": "ipython",
    "version": 3
   },
   "file_extension": ".py",
   "mimetype": "text/x-python",
   "name": "python",
   "nbconvert_exporter": "python",
   "pygments_lexer": "ipython3",
   "version": "3.9.1"
  },
  "orig_nbformat": 2,
  "kernelspec": {
   "name": "python391jvsc74a57bd0a02283fcca5e426d17e0174f88db1c9bed9939dc488116f8765dece87b2d6598",
   "display_name": "Python 3.9.1 64-bit (conda)"
  },
  "metadata": {
   "interpreter": {
    "hash": "a02283fcca5e426d17e0174f88db1c9bed9939dc488116f8765dece87b2d6598"
   }
  }
 },
 "nbformat": 4,
 "nbformat_minor": 2,
 "cells": [
  {
   "cell_type": "code",
   "execution_count": 4,
   "metadata": {},
   "outputs": [],
   "source": [
    "import numpy as np\n",
    "input = np.array([1.54, 1.32])\n",
    "weights = np.array([1.56, -0.45])\n",
    "bias = np.array([0.0])\n"
   ]
  },
  {
   "cell_type": "code",
   "execution_count": 5,
   "metadata": {},
   "outputs": [],
   "source": [
    "def sigmoid(x):\n",
    "    return 1/(1+np.exp(-x))\n",
    "\n",
    "\n",
    "def make_prediction(input, weights, bias):\n",
    "    # simple two layer network\n",
    "    layer1 = np.dot(input, weights) + bias\n",
    "    layer2 = sigmoid(layer1)\n",
    "    return layer2\n",
    "    "
   ]
  },
  {
   "cell_type": "code",
   "execution_count": 6,
   "metadata": {},
   "outputs": [
    {
     "output_type": "stream",
     "name": "stdout",
     "text": [
      "The prediction is [0.85916839]\n"
     ]
    }
   ],
   "source": [
    "prediction = make_prediction(input, weights, bias)\n",
    "print(f'The prediction is {prediction}')\n"
   ]
  },
  {
   "cell_type": "code",
   "execution_count": 7,
   "metadata": {},
   "outputs": [
    {
     "output_type": "stream",
     "name": "stdout",
     "text": [
      "The derivative is [1.71833678]\nThe new prediction is [0.04285867]\n"
     ]
    }
   ],
   "source": [
    "# basic gradient descent\n",
    "target = 0\n",
    "MSE = (prediction - target)**2\n",
    "derivative = 2 * (prediction - target)\n",
    "print(f'The derivative is {derivative}')\n",
    "\n",
    "weights = weights - derivative\n",
    "prediction = make_prediction(input, weights, bias)\n",
    "MSE = (prediction - target)**2\n",
    "print(f'The new prediction is {prediction}')\n"
   ]
  },
  {
   "cell_type": "code",
   "execution_count": 8,
   "metadata": {},
   "outputs": [
    {
     "output_type": "execute_result",
     "data": {
      "text/plain": [
       "array([0.00351628])"
      ]
     },
     "metadata": {},
     "execution_count": 8
    }
   ],
   "source": [
    "# getting derivative of error function with respect to bias using backpropagation\n",
    "d_error_wrt_prediction = 2*(prediction - target)\n",
    "layer1_result = np.dot(input, weights) + bias \n",
    "d_prediction_wrt_layer1 = sigmoid(layer1_result) * (1 - sigmoid(layer1_result))     # derivative of sigmoid fn\n",
    "d_layer1_wrt_bias = 1   # independent variable, so d(x)/dx = 1\n",
    "d_error_wrt_bias = d_layer1_wrt_bias * d_prediction_wrt_layer1 * d_error_wrt_prediction  # chain rule\n",
    "d_error_wrt_bias"
   ]
  },
  {
   "cell_type": "code",
   "execution_count": 9,
   "metadata": {},
   "outputs": [],
   "source": [
    "class NeuralNetwork:\n",
    "    def __init__(self, learning_rate):\n",
    "        self.learning_rate = learning_rate\n",
    "\n",
    "        # weights and bias randomly chosen\n",
    "        self.weights = np.array([np.random.randn(), np.random.randn()])\n",
    "        self.bias = np.random.randn()\n",
    "\n",
    "    def sigmoid(self, x):\n",
    "        return 1/(1+np.exp(-x))\n",
    "\n",
    "    def predict(self, input):\n",
    "        layer1 = np.dot(input, self.weights) + self.bias\n",
    "        layer2 = self.sigmoid(layer1)\n",
    "        return layer2 \n",
    "\n",
    "    def sigmoid_derivative(self, x):\n",
    "        return self.sigmoid(x) * (1-self.sigmoid(x))\n",
    "\n",
    "    def compute_gradients(self, input, target):\n",
    "        layer1 = np.dot(input, self.weights) + self.bias \n",
    "        layer2 = self.sigmoid(layer1)\n",
    "        prediction = layer2 \n",
    "\n",
    "        d_error_wrt_prediction = 2*(prediction - target)\n",
    "        d_prediction_wrt_layer1 = self.sigmoid_derivative(layer1)\n",
    "        d_layer1_wrt_bias = 1\n",
    "        d_error_wrt_bias = d_layer1_wrt_bias * d_prediction_wrt_layer1 * d_error_wrt_prediction\n",
    "        \n",
    "        d_layer1_wrt_weights = (input*1) + (self.weights*0)     # derivative of dot product\n",
    "        d_error_wrt_weights = d_layer1_wrt_weights * d_prediction_wrt_layer1 * d_error_wrt_prediction\n",
    "\n",
    "    def update_params(self, d_error_wrt_weights, d_error_wrt_bias):\n",
    "        self.bias = self.bias - (d_error_wrt_bias * self.learning_rate)\n",
    "        self.weights = self.weights - (d_error_wrt_weights * self.learning_rate)"
   ]
  }
 ]
}